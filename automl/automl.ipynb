{
 "cells": [
  {
   "cell_type": "code",
   "id": "initial_id",
   "metadata": {
    "collapsed": true,
    "ExecuteTime": {
     "end_time": "2024-04-21T13:40:51.697615Z",
     "start_time": "2024-04-21T13:40:49.343311Z"
    }
   },
   "source": [
    "!pip install flaml[notebook]\n",
    "!pip install flaml"
   ],
   "outputs": [
    {
     "name": "stdout",
     "output_type": "stream",
     "text": [
      "Looking in indexes: https://pypi.tuna.tsinghua.edu.cn/simple\n",
      "Requirement already satisfied: flaml[notebook] in c:\\users\\administrator\\.conda\\envs\\news\\lib\\site-packages (2.1.2)\n",
      "Requirement already satisfied: NumPy>=1.17 in c:\\users\\administrator\\.conda\\envs\\news\\lib\\site-packages (from flaml[notebook]) (1.26.4)\n",
      "Requirement already satisfied: jupyter in c:\\users\\administrator\\.conda\\envs\\news\\lib\\site-packages (from flaml[notebook]) (1.0.0)\n",
      "Requirement already satisfied: notebook in c:\\users\\administrator\\.conda\\envs\\news\\lib\\site-packages (from jupyter->flaml[notebook]) (7.0.8)\n",
      "Requirement already satisfied: qtconsole in c:\\users\\administrator\\.conda\\envs\\news\\lib\\site-packages (from jupyter->flaml[notebook]) (5.5.1)\n",
      "Requirement already satisfied: jupyter-console in c:\\users\\administrator\\.conda\\envs\\news\\lib\\site-packages (from jupyter->flaml[notebook]) (6.6.3)\n",
      "Requirement already satisfied: nbconvert in c:\\users\\administrator\\.conda\\envs\\news\\lib\\site-packages (from jupyter->flaml[notebook]) (7.10.0)\n",
      "Requirement already satisfied: ipykernel in c:\\users\\administrator\\.conda\\envs\\news\\lib\\site-packages (from jupyter->flaml[notebook]) (6.28.0)\n",
      "Requirement already satisfied: ipywidgets in c:\\users\\administrator\\.conda\\envs\\news\\lib\\site-packages (from jupyter->flaml[notebook]) (8.1.2)\n",
      "Requirement already satisfied: comm>=0.1.1 in c:\\users\\administrator\\.conda\\envs\\news\\lib\\site-packages (from ipykernel->jupyter->flaml[notebook]) (0.2.1)\n",
      "Requirement already satisfied: debugpy>=1.6.5 in c:\\users\\administrator\\.conda\\envs\\news\\lib\\site-packages (from ipykernel->jupyter->flaml[notebook]) (1.6.7)\n",
      "Requirement already satisfied: ipython>=7.23.1 in c:\\users\\administrator\\.conda\\envs\\news\\lib\\site-packages (from ipykernel->jupyter->flaml[notebook]) (8.15.0)\n",
      "Requirement already satisfied: jupyter-client>=6.1.12 in c:\\users\\administrator\\.conda\\envs\\news\\lib\\site-packages (from ipykernel->jupyter->flaml[notebook]) (8.6.0)\n",
      "Requirement already satisfied: jupyter-core!=5.0.*,>=4.12 in c:\\users\\administrator\\.conda\\envs\\news\\lib\\site-packages (from ipykernel->jupyter->flaml[notebook]) (5.5.0)\n",
      "Requirement already satisfied: matplotlib-inline>=0.1 in c:\\users\\administrator\\.conda\\envs\\news\\lib\\site-packages (from ipykernel->jupyter->flaml[notebook]) (0.1.6)\n",
      "Requirement already satisfied: nest-asyncio in c:\\users\\administrator\\.conda\\envs\\news\\lib\\site-packages (from ipykernel->jupyter->flaml[notebook]) (1.6.0)\n",
      "Requirement already satisfied: packaging in c:\\users\\administrator\\.conda\\envs\\news\\lib\\site-packages (from ipykernel->jupyter->flaml[notebook]) (23.2)\n",
      "Requirement already satisfied: psutil in c:\\users\\administrator\\.conda\\envs\\news\\lib\\site-packages (from ipykernel->jupyter->flaml[notebook]) (5.9.0)\n",
      "Requirement already satisfied: pyzmq>=24 in c:\\users\\administrator\\.conda\\envs\\news\\lib\\site-packages (from ipykernel->jupyter->flaml[notebook]) (25.1.2)\n",
      "Requirement already satisfied: tornado>=6.1 in c:\\users\\administrator\\.conda\\envs\\news\\lib\\site-packages (from ipykernel->jupyter->flaml[notebook]) (6.3.3)\n",
      "Requirement already satisfied: traitlets>=5.4.0 in c:\\users\\administrator\\.conda\\envs\\news\\lib\\site-packages (from ipykernel->jupyter->flaml[notebook]) (5.7.1)\n",
      "Requirement already satisfied: widgetsnbextension~=4.0.10 in c:\\users\\administrator\\.conda\\envs\\news\\lib\\site-packages (from ipywidgets->jupyter->flaml[notebook]) (4.0.10)\n",
      "Requirement already satisfied: jupyterlab-widgets~=3.0.10 in c:\\users\\administrator\\.conda\\envs\\news\\lib\\site-packages (from ipywidgets->jupyter->flaml[notebook]) (3.0.10)\n",
      "Requirement already satisfied: prompt-toolkit>=3.0.30 in c:\\users\\administrator\\.conda\\envs\\news\\lib\\site-packages (from jupyter-console->jupyter->flaml[notebook]) (3.0.43)\n",
      "Requirement already satisfied: pygments in c:\\users\\administrator\\.conda\\envs\\news\\lib\\site-packages (from jupyter-console->jupyter->flaml[notebook]) (2.15.1)\n",
      "Requirement already satisfied: beautifulsoup4 in c:\\users\\administrator\\.conda\\envs\\news\\lib\\site-packages (from nbconvert->jupyter->flaml[notebook]) (4.12.2)\n",
      "Requirement already satisfied: bleach!=5.0.0 in c:\\users\\administrator\\.conda\\envs\\news\\lib\\site-packages (from nbconvert->jupyter->flaml[notebook]) (4.1.0)\n",
      "Requirement already satisfied: defusedxml in c:\\users\\administrator\\.conda\\envs\\news\\lib\\site-packages (from nbconvert->jupyter->flaml[notebook]) (0.7.1)\n",
      "Requirement already satisfied: importlib-metadata>=3.6 in c:\\users\\administrator\\.conda\\envs\\news\\lib\\site-packages (from nbconvert->jupyter->flaml[notebook]) (7.0.1)\n",
      "Requirement already satisfied: jinja2>=3.0 in c:\\users\\administrator\\.conda\\envs\\news\\lib\\site-packages (from nbconvert->jupyter->flaml[notebook]) (3.1.3)\n",
      "Requirement already satisfied: jupyterlab-pygments in c:\\users\\administrator\\.conda\\envs\\news\\lib\\site-packages (from nbconvert->jupyter->flaml[notebook]) (0.1.2)\n",
      "Requirement already satisfied: markupsafe>=2.0 in c:\\users\\administrator\\.conda\\envs\\news\\lib\\site-packages (from nbconvert->jupyter->flaml[notebook]) (2.1.3)\n",
      "Requirement already satisfied: mistune<4,>=2.0.3 in c:\\users\\administrator\\.conda\\envs\\news\\lib\\site-packages (from nbconvert->jupyter->flaml[notebook]) (2.0.4)\n",
      "Requirement already satisfied: nbclient>=0.5.0 in c:\\users\\administrator\\.conda\\envs\\news\\lib\\site-packages (from nbconvert->jupyter->flaml[notebook]) (0.8.0)\n",
      "Requirement already satisfied: nbformat>=5.7 in c:\\users\\administrator\\.conda\\envs\\news\\lib\\site-packages (from nbconvert->jupyter->flaml[notebook]) (5.9.2)\n",
      "Requirement already satisfied: pandocfilters>=1.4.1 in c:\\users\\administrator\\.conda\\envs\\news\\lib\\site-packages (from nbconvert->jupyter->flaml[notebook]) (1.5.0)\n",
      "Requirement already satisfied: tinycss2 in c:\\users\\administrator\\.conda\\envs\\news\\lib\\site-packages (from nbconvert->jupyter->flaml[notebook]) (1.2.1)\n",
      "Requirement already satisfied: jupyter-server<3,>=2.4.0 in c:\\users\\administrator\\.conda\\envs\\news\\lib\\site-packages (from notebook->jupyter->flaml[notebook]) (2.10.0)\n",
      "Requirement already satisfied: jupyterlab-server<3,>=2.22.1 in c:\\users\\administrator\\.conda\\envs\\news\\lib\\site-packages (from notebook->jupyter->flaml[notebook]) (2.25.1)\n",
      "Requirement already satisfied: jupyterlab<4.1,>=4.0.2 in c:\\users\\administrator\\.conda\\envs\\news\\lib\\site-packages (from notebook->jupyter->flaml[notebook]) (4.0.11)\n",
      "Requirement already satisfied: notebook-shim<0.3,>=0.2 in c:\\users\\administrator\\.conda\\envs\\news\\lib\\site-packages (from notebook->jupyter->flaml[notebook]) (0.2.3)\n",
      "Requirement already satisfied: qtpy>=2.4.0 in c:\\users\\administrator\\.conda\\envs\\news\\lib\\site-packages (from qtconsole->jupyter->flaml[notebook]) (2.4.1)\n",
      "Requirement already satisfied: six>=1.9.0 in c:\\users\\administrator\\.conda\\envs\\news\\lib\\site-packages (from bleach!=5.0.0->nbconvert->jupyter->flaml[notebook]) (1.11.0)\n",
      "Requirement already satisfied: webencodings in c:\\users\\administrator\\.conda\\envs\\news\\lib\\site-packages (from bleach!=5.0.0->nbconvert->jupyter->flaml[notebook]) (0.5.1)\n",
      "Requirement already satisfied: zipp>=0.5 in c:\\users\\administrator\\.conda\\envs\\news\\lib\\site-packages (from importlib-metadata>=3.6->nbconvert->jupyter->flaml[notebook]) (3.17.0)\n",
      "Requirement already satisfied: backcall in c:\\users\\administrator\\.conda\\envs\\news\\lib\\site-packages (from ipython>=7.23.1->ipykernel->jupyter->flaml[notebook]) (0.2.0)\n",
      "Requirement already satisfied: decorator in c:\\users\\administrator\\.conda\\envs\\news\\lib\\site-packages (from ipython>=7.23.1->ipykernel->jupyter->flaml[notebook]) (5.1.1)\n",
      "Requirement already satisfied: jedi>=0.16 in c:\\users\\administrator\\.conda\\envs\\news\\lib\\site-packages (from ipython>=7.23.1->ipykernel->jupyter->flaml[notebook]) (0.18.1)\n",
      "Requirement already satisfied: pickleshare in c:\\users\\administrator\\.conda\\envs\\news\\lib\\site-packages (from ipython>=7.23.1->ipykernel->jupyter->flaml[notebook]) (0.7.5)\n",
      "Requirement already satisfied: stack-data in c:\\users\\administrator\\.conda\\envs\\news\\lib\\site-packages (from ipython>=7.23.1->ipykernel->jupyter->flaml[notebook]) (0.2.0)\n",
      "Requirement already satisfied: typing-extensions in c:\\users\\administrator\\.conda\\envs\\news\\lib\\site-packages (from ipython>=7.23.1->ipykernel->jupyter->flaml[notebook]) (4.8.0)\n",
      "Requirement already satisfied: exceptiongroup in c:\\users\\administrator\\.conda\\envs\\news\\lib\\site-packages (from ipython>=7.23.1->ipykernel->jupyter->flaml[notebook]) (1.2.0)\n",
      "Requirement already satisfied: colorama in c:\\users\\administrator\\.conda\\envs\\news\\lib\\site-packages (from ipython>=7.23.1->ipykernel->jupyter->flaml[notebook]) (0.4.6)\n",
      "Requirement already satisfied: python-dateutil>=2.8.2 in c:\\users\\administrator\\.conda\\envs\\news\\lib\\site-packages (from jupyter-client>=6.1.12->ipykernel->jupyter->flaml[notebook]) (2.8.2)\n",
      "Requirement already satisfied: platformdirs>=2.5 in c:\\users\\administrator\\.conda\\envs\\news\\lib\\site-packages (from jupyter-core!=5.0.*,>=4.12->ipykernel->jupyter->flaml[notebook]) (3.10.0)\n",
      "Requirement already satisfied: pywin32>=300 in c:\\users\\administrator\\.conda\\envs\\news\\lib\\site-packages (from jupyter-core!=5.0.*,>=4.12->ipykernel->jupyter->flaml[notebook]) (305.1)\n",
      "Requirement already satisfied: anyio>=3.1.0 in c:\\users\\administrator\\.conda\\envs\\news\\lib\\site-packages (from jupyter-server<3,>=2.4.0->notebook->jupyter->flaml[notebook]) (4.2.0)\n",
      "Requirement already satisfied: argon2-cffi in c:\\users\\administrator\\.conda\\envs\\news\\lib\\site-packages (from jupyter-server<3,>=2.4.0->notebook->jupyter->flaml[notebook]) (21.3.0)\n",
      "Requirement already satisfied: jupyter-events>=0.6.0 in c:\\users\\administrator\\.conda\\envs\\news\\lib\\site-packages (from jupyter-server<3,>=2.4.0->notebook->jupyter->flaml[notebook]) (0.8.0)\n",
      "Requirement already satisfied: jupyter-server-terminals in c:\\users\\administrator\\.conda\\envs\\news\\lib\\site-packages (from jupyter-server<3,>=2.4.0->notebook->jupyter->flaml[notebook]) (0.4.4)\n",
      "Requirement already satisfied: overrides in c:\\users\\administrator\\.conda\\envs\\news\\lib\\site-packages (from jupyter-server<3,>=2.4.0->notebook->jupyter->flaml[notebook]) (7.4.0)\n",
      "Requirement already satisfied: prometheus-client in c:\\users\\administrator\\.conda\\envs\\news\\lib\\site-packages (from jupyter-server<3,>=2.4.0->notebook->jupyter->flaml[notebook]) (0.14.1)\n",
      "Requirement already satisfied: pywinpty in c:\\users\\administrator\\.conda\\envs\\news\\lib\\site-packages (from jupyter-server<3,>=2.4.0->notebook->jupyter->flaml[notebook]) (2.0.10)\n",
      "Requirement already satisfied: send2trash>=1.8.2 in c:\\users\\administrator\\.conda\\envs\\news\\lib\\site-packages (from jupyter-server<3,>=2.4.0->notebook->jupyter->flaml[notebook]) (1.8.2)\n",
      "Requirement already satisfied: terminado>=0.8.3 in c:\\users\\administrator\\.conda\\envs\\news\\lib\\site-packages (from jupyter-server<3,>=2.4.0->notebook->jupyter->flaml[notebook]) (0.17.1)\n",
      "Requirement already satisfied: websocket-client in c:\\users\\administrator\\.conda\\envs\\news\\lib\\site-packages (from jupyter-server<3,>=2.4.0->notebook->jupyter->flaml[notebook]) (0.58.0)\n",
      "Requirement already satisfied: async-lru>=1.0.0 in c:\\users\\administrator\\.conda\\envs\\news\\lib\\site-packages (from jupyterlab<4.1,>=4.0.2->notebook->jupyter->flaml[notebook]) (2.0.4)\n",
      "Requirement already satisfied: jupyter-lsp>=2.0.0 in c:\\users\\administrator\\.conda\\envs\\news\\lib\\site-packages (from jupyterlab<4.1,>=4.0.2->notebook->jupyter->flaml[notebook]) (2.2.0)\n",
      "Requirement already satisfied: tomli in c:\\users\\administrator\\.conda\\envs\\news\\lib\\site-packages (from jupyterlab<4.1,>=4.0.2->notebook->jupyter->flaml[notebook]) (2.0.1)\n",
      "Requirement already satisfied: babel>=2.10 in c:\\users\\administrator\\.conda\\envs\\news\\lib\\site-packages (from jupyterlab-server<3,>=2.22.1->notebook->jupyter->flaml[notebook]) (2.11.0)\n",
      "Requirement already satisfied: json5>=0.9.0 in c:\\users\\administrator\\.conda\\envs\\news\\lib\\site-packages (from jupyterlab-server<3,>=2.22.1->notebook->jupyter->flaml[notebook]) (0.9.6)\n",
      "Requirement already satisfied: jsonschema>=4.18.0 in c:\\users\\administrator\\.conda\\envs\\news\\lib\\site-packages (from jupyterlab-server<3,>=2.22.1->notebook->jupyter->flaml[notebook]) (4.19.2)\n",
      "Requirement already satisfied: requests>=2.31 in c:\\users\\administrator\\.conda\\envs\\news\\lib\\site-packages (from jupyterlab-server<3,>=2.22.1->notebook->jupyter->flaml[notebook]) (2.31.0)\n",
      "Requirement already satisfied: fastjsonschema in c:\\users\\administrator\\.conda\\envs\\news\\lib\\site-packages (from nbformat>=5.7->nbconvert->jupyter->flaml[notebook]) (2.16.2)\n",
      "Requirement already satisfied: wcwidth in c:\\users\\administrator\\.conda\\envs\\news\\lib\\site-packages (from prompt-toolkit>=3.0.30->jupyter-console->jupyter->flaml[notebook]) (0.2.5)\n",
      "Requirement already satisfied: soupsieve>1.2 in c:\\users\\administrator\\.conda\\envs\\news\\lib\\site-packages (from beautifulsoup4->nbconvert->jupyter->flaml[notebook]) (2.5)\n",
      "Requirement already satisfied: idna>=2.8 in c:\\users\\administrator\\.conda\\envs\\news\\lib\\site-packages (from anyio>=3.1.0->jupyter-server<3,>=2.4.0->notebook->jupyter->flaml[notebook]) (3.4)\n",
      "Requirement already satisfied: sniffio>=1.1 in c:\\users\\administrator\\.conda\\envs\\news\\lib\\site-packages (from anyio>=3.1.0->jupyter-server<3,>=2.4.0->notebook->jupyter->flaml[notebook]) (1.3.0)\n",
      "Requirement already satisfied: pytz>=2015.7 in c:\\users\\administrator\\.conda\\envs\\news\\lib\\site-packages (from babel>=2.10->jupyterlab-server<3,>=2.22.1->notebook->jupyter->flaml[notebook]) (2023.3.post1)\n",
      "Requirement already satisfied: parso<0.9.0,>=0.8.0 in c:\\users\\administrator\\.conda\\envs\\news\\lib\\site-packages (from jedi>=0.16->ipython>=7.23.1->ipykernel->jupyter->flaml[notebook]) (0.8.3)\n",
      "Requirement already satisfied: attrs>=22.2.0 in c:\\users\\administrator\\.conda\\envs\\news\\lib\\site-packages (from jsonschema>=4.18.0->jupyterlab-server<3,>=2.22.1->notebook->jupyter->flaml[notebook]) (23.1.0)\n",
      "Requirement already satisfied: jsonschema-specifications>=2023.03.6 in c:\\users\\administrator\\.conda\\envs\\news\\lib\\site-packages (from jsonschema>=4.18.0->jupyterlab-server<3,>=2.22.1->notebook->jupyter->flaml[notebook]) (2023.7.1)\n",
      "Requirement already satisfied: referencing>=0.28.4 in c:\\users\\administrator\\.conda\\envs\\news\\lib\\site-packages (from jsonschema>=4.18.0->jupyterlab-server<3,>=2.22.1->notebook->jupyter->flaml[notebook]) (0.30.2)\n",
      "Requirement already satisfied: rpds-py>=0.7.1 in c:\\users\\administrator\\.conda\\envs\\news\\lib\\site-packages (from jsonschema>=4.18.0->jupyterlab-server<3,>=2.22.1->notebook->jupyter->flaml[notebook]) (0.10.6)\n",
      "Requirement already satisfied: python-json-logger>=2.0.4 in c:\\users\\administrator\\.conda\\envs\\news\\lib\\site-packages (from jupyter-events>=0.6.0->jupyter-server<3,>=2.4.0->notebook->jupyter->flaml[notebook]) (2.0.7)\n",
      "Requirement already satisfied: pyyaml>=5.3 in c:\\users\\administrator\\.conda\\envs\\news\\lib\\site-packages (from jupyter-events>=0.6.0->jupyter-server<3,>=2.4.0->notebook->jupyter->flaml[notebook]) (6.0.1)\n",
      "Requirement already satisfied: rfc3339-validator in c:\\users\\administrator\\.conda\\envs\\news\\lib\\site-packages (from jupyter-events>=0.6.0->jupyter-server<3,>=2.4.0->notebook->jupyter->flaml[notebook]) (0.1.4)\n",
      "Requirement already satisfied: rfc3986-validator>=0.1.1 in c:\\users\\administrator\\.conda\\envs\\news\\lib\\site-packages (from jupyter-events>=0.6.0->jupyter-server<3,>=2.4.0->notebook->jupyter->flaml[notebook]) (0.1.1)\n",
      "Requirement already satisfied: charset-normalizer<4,>=2 in c:\\users\\administrator\\.conda\\envs\\news\\lib\\site-packages (from requests>=2.31->jupyterlab-server<3,>=2.22.1->notebook->jupyter->flaml[notebook]) (2.0.4)\n",
      "Requirement already satisfied: urllib3<3,>=1.21.1 in c:\\users\\administrator\\.conda\\envs\\news\\lib\\site-packages (from requests>=2.31->jupyterlab-server<3,>=2.22.1->notebook->jupyter->flaml[notebook]) (1.23)\n",
      "Requirement already satisfied: certifi>=2017.4.17 in c:\\users\\administrator\\.conda\\envs\\news\\lib\\site-packages (from requests>=2.31->jupyterlab-server<3,>=2.22.1->notebook->jupyter->flaml[notebook]) (2018.4.16)\n",
      "Requirement already satisfied: argon2-cffi-bindings in c:\\users\\administrator\\.conda\\envs\\news\\lib\\site-packages (from argon2-cffi->jupyter-server<3,>=2.4.0->notebook->jupyter->flaml[notebook]) (21.2.0)\n",
      "Requirement already satisfied: executing in c:\\users\\administrator\\.conda\\envs\\news\\lib\\site-packages (from stack-data->ipython>=7.23.1->ipykernel->jupyter->flaml[notebook]) (0.8.3)\n",
      "Requirement already satisfied: asttokens in c:\\users\\administrator\\.conda\\envs\\news\\lib\\site-packages (from stack-data->ipython>=7.23.1->ipykernel->jupyter->flaml[notebook]) (2.0.5)\n",
      "Requirement already satisfied: pure-eval in c:\\users\\administrator\\.conda\\envs\\news\\lib\\site-packages (from stack-data->ipython>=7.23.1->ipykernel->jupyter->flaml[notebook]) (0.2.2)\n",
      "Requirement already satisfied: fqdn in c:\\users\\administrator\\.conda\\envs\\news\\lib\\site-packages (from jsonschema[format-nongpl]>=4.18.0->jupyter-events>=0.6.0->jupyter-server<3,>=2.4.0->notebook->jupyter->flaml[notebook]) (1.5.1)\n",
      "Requirement already satisfied: isoduration in c:\\users\\administrator\\.conda\\envs\\news\\lib\\site-packages (from jsonschema[format-nongpl]>=4.18.0->jupyter-events>=0.6.0->jupyter-server<3,>=2.4.0->notebook->jupyter->flaml[notebook]) (20.11.0)\n",
      "Requirement already satisfied: jsonpointer>1.13 in c:\\users\\administrator\\.conda\\envs\\news\\lib\\site-packages (from jsonschema[format-nongpl]>=4.18.0->jupyter-events>=0.6.0->jupyter-server<3,>=2.4.0->notebook->jupyter->flaml[notebook]) (2.4)\n",
      "Requirement already satisfied: uri-template in c:\\users\\administrator\\.conda\\envs\\news\\lib\\site-packages (from jsonschema[format-nongpl]>=4.18.0->jupyter-events>=0.6.0->jupyter-server<3,>=2.4.0->notebook->jupyter->flaml[notebook]) (1.3.0)\n",
      "Requirement already satisfied: webcolors>=1.11 in c:\\users\\administrator\\.conda\\envs\\news\\lib\\site-packages (from jsonschema[format-nongpl]>=4.18.0->jupyter-events>=0.6.0->jupyter-server<3,>=2.4.0->notebook->jupyter->flaml[notebook]) (1.13)\n",
      "Requirement already satisfied: cffi>=1.0.1 in c:\\users\\administrator\\.conda\\envs\\news\\lib\\site-packages (from argon2-cffi-bindings->argon2-cffi->jupyter-server<3,>=2.4.0->notebook->jupyter->flaml[notebook]) (1.16.0)\n",
      "Requirement already satisfied: pycparser in c:\\users\\administrator\\.conda\\envs\\news\\lib\\site-packages (from cffi>=1.0.1->argon2-cffi-bindings->argon2-cffi->jupyter-server<3,>=2.4.0->notebook->jupyter->flaml[notebook]) (2.21)\n",
      "Requirement already satisfied: arrow>=0.15.0 in c:\\users\\administrator\\.conda\\envs\\news\\lib\\site-packages (from isoduration->jsonschema[format-nongpl]>=4.18.0->jupyter-events>=0.6.0->jupyter-server<3,>=2.4.0->notebook->jupyter->flaml[notebook]) (1.3.0)\n",
      "Requirement already satisfied: types-python-dateutil>=2.8.10 in c:\\users\\administrator\\.conda\\envs\\news\\lib\\site-packages (from arrow>=0.15.0->isoduration->jsonschema[format-nongpl]>=4.18.0->jupyter-events>=0.6.0->jupyter-server<3,>=2.4.0->notebook->jupyter->flaml[notebook]) (2.9.0.20240316)\n",
      "Looking in indexes: https://pypi.tuna.tsinghua.edu.cn/simple\n",
      "Requirement already satisfied: flaml in c:\\users\\administrator\\.conda\\envs\\news\\lib\\site-packages (2.1.2)\n",
      "Requirement already satisfied: NumPy>=1.17 in c:\\users\\administrator\\.conda\\envs\\news\\lib\\site-packages (from flaml) (1.26.4)\n"
     ]
    }
   ],
   "execution_count": 6
  },
  {
   "metadata": {
    "ExecuteTime": {
     "end_time": "2024-04-21T13:43:46.855414Z",
     "start_time": "2024-04-21T13:43:46.763953Z"
    }
   },
   "cell_type": "code",
   "source": [
    "# from flaml.data import load_openml_dataset\n",
    "from flaml import AutoML\n",
    "from sklearn.datasets import load_iris\n",
    "X_train, y_train = load_iris(return_X_y=True)\n",
    "# X_train, X_test, y_train, y_test = load_openml_dataset(dataset_id=1169, data_dir='./')"
   ],
   "id": "7fa22ced749da6e5",
   "outputs": [],
   "execution_count": 8
  },
  {
   "metadata": {
    "ExecuteTime": {
     "end_time": "2024-04-21T13:43:49.634392Z",
     "start_time": "2024-04-21T13:43:49.621358Z"
    }
   },
   "cell_type": "code",
   "source": [
    "## 导入工具库并初始化AutoML对象\n",
    "from flaml import AutoML\n",
    "automl = AutoML()"
   ],
   "id": "44eacd808c8c165b",
   "outputs": [],
   "execution_count": 9
  },
  {
   "metadata": {
    "ExecuteTime": {
     "end_time": "2024-04-21T13:56:31.057765Z",
     "start_time": "2024-04-21T13:56:31.047256Z"
    }
   },
   "cell_type": "code",
   "source": [
    "automl_settings = {\n",
    "    \"time_budget\": 10,  # in seconds\n",
    "    \"metric\": 'accuracy',\n",
    "    \"task\": 'classification'\n",
    "}"
   ],
   "id": "fbed7f33b744e875",
   "outputs": [],
   "execution_count": 21
  },
  {
   "metadata": {
    "ExecuteTime": {
     "end_time": "2024-04-21T13:56:32.849217Z",
     "start_time": "2024-04-21T13:56:32.695229Z"
    }
   },
   "cell_type": "code",
   "source": [
    "# Train with labeled input data\n",
    "automl.fit(X_train, y_train, **settings)\n",
    "\n",
    "print(automl.predict_proba(X_train).shape)\n",
    "# Export the best model\n",
    "print(automl.model)"
   ],
   "id": "efcd92c0a786b320",
   "outputs": [
    {
     "name": "stdout",
     "output_type": "stream",
     "text": [
      "[flaml.automl.logger: 04-21 21:56:32] {1680} INFO - task = classification\n",
      "[flaml.automl.logger: 04-21 21:56:32] {1691} INFO - Evaluation method: cv\n",
      "[flaml.automl.logger: 04-21 21:56:32] {1789} INFO - Minimizing error metric: 1-accuracy\n",
      "[flaml.automl.logger: 04-21 21:56:32] {1901} INFO - List of ML learners in AutoML Run: ['lgbm', 'rf', 'xgboost', 'extra_tree', 'xgb_limitdepth', 'lrl1']\n",
      "[flaml.automl.logger: 04-21 21:56:32] {2219} INFO - iteration 0, current learner lgbm\n"
     ]
    },
    {
     "ename": "TypeError",
     "evalue": "'NoneType' object is not callable",
     "output_type": "error",
     "traceback": [
      "\u001B[1;31m---------------------------------------------------------------------------\u001B[0m",
      "\u001B[1;31mTypeError\u001B[0m                                 Traceback (most recent call last)",
      "Cell \u001B[1;32mIn[22], line 2\u001B[0m\n\u001B[0;32m      1\u001B[0m \u001B[38;5;66;03m# Train with labeled input data\u001B[39;00m\n\u001B[1;32m----> 2\u001B[0m automl\u001B[38;5;241m.\u001B[39mfit(X_train, y_train, \u001B[38;5;241m*\u001B[39m\u001B[38;5;241m*\u001B[39msettings)\n\u001B[0;32m      4\u001B[0m \u001B[38;5;28mprint\u001B[39m(automl\u001B[38;5;241m.\u001B[39mpredict_proba(X_train)\u001B[38;5;241m.\u001B[39mshape)\n\u001B[0;32m      5\u001B[0m \u001B[38;5;66;03m# Export the best model\u001B[39;00m\n",
      "File \u001B[1;32m~\\.conda\\envs\\news\\lib\\site-packages\\flaml\\automl\\automl.py:1926\u001B[0m, in \u001B[0;36mAutoML.fit\u001B[1;34m(self, X_train, y_train, dataframe, label, metric, task, n_jobs, log_file_name, estimator_list, time_budget, max_iter, sample, ensemble, eval_method, log_type, model_history, split_ratio, n_splits, log_training_metric, mem_thres, pred_time_limit, train_time_limit, X_val, y_val, sample_weight_val, groups_val, groups, verbose, retrain_full, split_type, learner_selector, hpo_method, starting_points, seed, n_concurrent_trials, keep_search_state, preserve_checkpoint, early_stop, force_cancel, append_log, auto_augment, min_sample_size, use_ray, use_spark, free_mem_ratio, metric_constraints, custom_hp, time_col, cv_score_agg_func, skip_transform, mlflow_logging, fit_kwargs_by_estimator, **fit_kwargs)\u001B[0m\n\u001B[0;32m   1924\u001B[0m     \u001B[38;5;28;01mwith\u001B[39;00m training_log_writer(log_file_name, append_log) \u001B[38;5;28;01mas\u001B[39;00m save_helper:\n\u001B[0;32m   1925\u001B[0m         \u001B[38;5;28mself\u001B[39m\u001B[38;5;241m.\u001B[39m_training_log \u001B[38;5;241m=\u001B[39m save_helper\n\u001B[1;32m-> 1926\u001B[0m         \u001B[38;5;28;43mself\u001B[39;49m\u001B[38;5;241;43m.\u001B[39;49m\u001B[43m_search\u001B[49m\u001B[43m(\u001B[49m\u001B[43m)\u001B[49m\n\u001B[0;32m   1927\u001B[0m \u001B[38;5;28;01melse\u001B[39;00m:\n\u001B[0;32m   1928\u001B[0m     \u001B[38;5;28mself\u001B[39m\u001B[38;5;241m.\u001B[39m_training_log \u001B[38;5;241m=\u001B[39m \u001B[38;5;28;01mNone\u001B[39;00m\n",
      "File \u001B[1;32m~\\.conda\\envs\\news\\lib\\site-packages\\flaml\\automl\\automl.py:2483\u001B[0m, in \u001B[0;36mAutoML._search\u001B[1;34m(self)\u001B[0m\n\u001B[0;32m   2481\u001B[0m     state\u001B[38;5;241m.\u001B[39mbest_config \u001B[38;5;241m=\u001B[39m state\u001B[38;5;241m.\u001B[39minit_config[\u001B[38;5;241m0\u001B[39m] \u001B[38;5;28;01mif\u001B[39;00m state\u001B[38;5;241m.\u001B[39minit_config \u001B[38;5;28;01melse\u001B[39;00m {}\n\u001B[0;32m   2482\u001B[0m \u001B[38;5;28;01melif\u001B[39;00m \u001B[38;5;28mself\u001B[39m\u001B[38;5;241m.\u001B[39m_use_ray \u001B[38;5;129;01mis\u001B[39;00m \u001B[38;5;28;01mFalse\u001B[39;00m \u001B[38;5;129;01mand\u001B[39;00m \u001B[38;5;28mself\u001B[39m\u001B[38;5;241m.\u001B[39m_use_spark \u001B[38;5;129;01mis\u001B[39;00m \u001B[38;5;28;01mFalse\u001B[39;00m:\n\u001B[1;32m-> 2483\u001B[0m     \u001B[38;5;28;43mself\u001B[39;49m\u001B[38;5;241;43m.\u001B[39;49m\u001B[43m_search_sequential\u001B[49m\u001B[43m(\u001B[49m\u001B[43m)\u001B[49m\n\u001B[0;32m   2484\u001B[0m \u001B[38;5;28;01melse\u001B[39;00m:\n\u001B[0;32m   2485\u001B[0m     \u001B[38;5;28mself\u001B[39m\u001B[38;5;241m.\u001B[39m_search_parallel()\n",
      "File \u001B[1;32m~\\.conda\\envs\\news\\lib\\site-packages\\flaml\\automl\\automl.py:2319\u001B[0m, in \u001B[0;36mAutoML._search_sequential\u001B[1;34m(self)\u001B[0m\n\u001B[0;32m   2313\u001B[0m         search_state\u001B[38;5;241m.\u001B[39msearch_alg\u001B[38;5;241m.\u001B[39msearcher\u001B[38;5;241m.\u001B[39mset_search_properties(\n\u001B[0;32m   2314\u001B[0m             metric\u001B[38;5;241m=\u001B[39m\u001B[38;5;28;01mNone\u001B[39;00m,\n\u001B[0;32m   2315\u001B[0m             mode\u001B[38;5;241m=\u001B[39m\u001B[38;5;28;01mNone\u001B[39;00m,\n\u001B[0;32m   2316\u001B[0m             metric_target\u001B[38;5;241m=\u001B[39m\u001B[38;5;28mself\u001B[39m\u001B[38;5;241m.\u001B[39m_state\u001B[38;5;241m.\u001B[39mbest_loss,\n\u001B[0;32m   2317\u001B[0m         )\n\u001B[0;32m   2318\u001B[0m start_run_time \u001B[38;5;241m=\u001B[39m time\u001B[38;5;241m.\u001B[39mtime()\n\u001B[1;32m-> 2319\u001B[0m analysis \u001B[38;5;241m=\u001B[39m \u001B[43mtune\u001B[49m\u001B[38;5;241;43m.\u001B[39;49m\u001B[43mrun\u001B[49m\u001B[43m(\u001B[49m\n\u001B[0;32m   2320\u001B[0m \u001B[43m    \u001B[49m\u001B[43msearch_state\u001B[49m\u001B[38;5;241;43m.\u001B[39;49m\u001B[43mtraining_function\u001B[49m\u001B[43m,\u001B[49m\n\u001B[0;32m   2321\u001B[0m \u001B[43m    \u001B[49m\u001B[43msearch_alg\u001B[49m\u001B[38;5;241;43m=\u001B[39;49m\u001B[43msearch_state\u001B[49m\u001B[38;5;241;43m.\u001B[39;49m\u001B[43msearch_alg\u001B[49m\u001B[43m,\u001B[49m\n\u001B[0;32m   2322\u001B[0m \u001B[43m    \u001B[49m\u001B[43mtime_budget_s\u001B[49m\u001B[38;5;241;43m=\u001B[39;49m\u001B[43mtime_budget_s\u001B[49m\u001B[43m,\u001B[49m\n\u001B[0;32m   2323\u001B[0m \u001B[43m    \u001B[49m\u001B[43mverbose\u001B[49m\u001B[38;5;241;43m=\u001B[39;49m\u001B[38;5;28;43mmax\u001B[39;49m\u001B[43m(\u001B[49m\u001B[38;5;28;43mself\u001B[39;49m\u001B[38;5;241;43m.\u001B[39;49m\u001B[43mverbose\u001B[49m\u001B[43m \u001B[49m\u001B[38;5;241;43m-\u001B[39;49m\u001B[43m \u001B[49m\u001B[38;5;241;43m3\u001B[39;49m\u001B[43m,\u001B[49m\u001B[43m \u001B[49m\u001B[38;5;241;43m0\u001B[39;49m\u001B[43m)\u001B[49m\u001B[43m,\u001B[49m\n\u001B[0;32m   2324\u001B[0m \u001B[43m    \u001B[49m\u001B[43muse_ray\u001B[49m\u001B[38;5;241;43m=\u001B[39;49m\u001B[38;5;28;43;01mFalse\u001B[39;49;00m\u001B[43m,\u001B[49m\n\u001B[0;32m   2325\u001B[0m \u001B[43m    \u001B[49m\u001B[43muse_spark\u001B[49m\u001B[38;5;241;43m=\u001B[39;49m\u001B[38;5;28;43;01mFalse\u001B[39;49;00m\u001B[43m,\u001B[49m\n\u001B[0;32m   2326\u001B[0m \u001B[43m\u001B[49m\u001B[43m)\u001B[49m\n\u001B[0;32m   2327\u001B[0m time_used \u001B[38;5;241m=\u001B[39m time\u001B[38;5;241m.\u001B[39mtime() \u001B[38;5;241m-\u001B[39m start_run_time\n\u001B[0;32m   2328\u001B[0m better \u001B[38;5;241m=\u001B[39m \u001B[38;5;28;01mFalse\u001B[39;00m\n",
      "File \u001B[1;32m~\\.conda\\envs\\news\\lib\\site-packages\\flaml\\tune\\tune.py:814\u001B[0m, in \u001B[0;36mrun\u001B[1;34m(evaluation_function, config, low_cost_partial_config, cat_hp_cost, metric, mode, time_budget_s, points_to_evaluate, evaluated_rewards, resource_attr, min_resource, max_resource, reduction_factor, scheduler, search_alg, verbose, local_dir, num_samples, resources_per_trial, config_constraints, metric_constraints, max_failure, use_ray, use_spark, use_incumbent_result_in_evaluation, log_file_name, lexico_objectives, force_cancel, n_concurrent_trials, **ray_args)\u001B[0m\n\u001B[0;32m    812\u001B[0m result \u001B[38;5;241m=\u001B[39m \u001B[38;5;28;01mNone\u001B[39;00m\n\u001B[0;32m    813\u001B[0m \u001B[38;5;28;01mwith\u001B[39;00m PySparkOvertimeMonitor(time_start, time_budget_s, force_cancel):\n\u001B[1;32m--> 814\u001B[0m     result \u001B[38;5;241m=\u001B[39m \u001B[43mevaluation_function\u001B[49m\u001B[43m(\u001B[49m\u001B[43mtrial_to_run\u001B[49m\u001B[38;5;241;43m.\u001B[39;49m\u001B[43mconfig\u001B[49m\u001B[43m)\u001B[49m\n\u001B[0;32m    815\u001B[0m \u001B[38;5;28;01mif\u001B[39;00m result \u001B[38;5;129;01mis\u001B[39;00m \u001B[38;5;129;01mnot\u001B[39;00m \u001B[38;5;28;01mNone\u001B[39;00m:\n\u001B[0;32m    816\u001B[0m     \u001B[38;5;28;01mif\u001B[39;00m \u001B[38;5;28misinstance\u001B[39m(result, \u001B[38;5;28mdict\u001B[39m):\n",
      "File \u001B[1;32m~\\.conda\\envs\\news\\lib\\site-packages\\flaml\\automl\\state.py:304\u001B[0m, in \u001B[0;36mAutoMLState._compute_with_config_base\u001B[1;34m(config_w_resource, state, estimator, is_report)\u001B[0m\n\u001B[0;32m    289\u001B[0m     \u001B[38;5;28;01mdel\u001B[39;00m config[\u001B[38;5;124m\"\u001B[39m\u001B[38;5;124mFLAML_sample_size\u001B[39m\u001B[38;5;124m\"\u001B[39m]\n\u001B[0;32m    290\u001B[0m budget \u001B[38;5;241m=\u001B[39m (\n\u001B[0;32m    291\u001B[0m     \u001B[38;5;28;01mNone\u001B[39;00m\n\u001B[0;32m    292\u001B[0m     \u001B[38;5;28;01mif\u001B[39;00m state\u001B[38;5;241m.\u001B[39mtime_budget \u001B[38;5;241m<\u001B[39m \u001B[38;5;241m0\u001B[39m\n\u001B[1;32m   (...)\u001B[0m\n\u001B[0;32m    295\u001B[0m     \u001B[38;5;28;01melse\u001B[39;00m (state\u001B[38;5;241m.\u001B[39mtime_budget \u001B[38;5;241m-\u001B[39m state\u001B[38;5;241m.\u001B[39mtime_from_start) \u001B[38;5;241m/\u001B[39m \u001B[38;5;241m2\u001B[39m \u001B[38;5;241m*\u001B[39m sample_size \u001B[38;5;241m/\u001B[39m state\u001B[38;5;241m.\u001B[39mdata_size[\u001B[38;5;241m0\u001B[39m]\n\u001B[0;32m    296\u001B[0m )\n\u001B[0;32m    298\u001B[0m (\n\u001B[0;32m    299\u001B[0m     trained_estimator,\n\u001B[0;32m    300\u001B[0m     val_loss,\n\u001B[0;32m    301\u001B[0m     metric_for_logging,\n\u001B[0;32m    302\u001B[0m     _,\n\u001B[0;32m    303\u001B[0m     pred_time,\n\u001B[1;32m--> 304\u001B[0m ) \u001B[38;5;241m=\u001B[39m \u001B[43mcompute_estimator\u001B[49m\u001B[43m(\u001B[49m\n\u001B[0;32m    305\u001B[0m \u001B[43m    \u001B[49m\u001B[43msampled_X_train\u001B[49m\u001B[43m,\u001B[49m\n\u001B[0;32m    306\u001B[0m \u001B[43m    \u001B[49m\u001B[43msampled_y_train\u001B[49m\u001B[43m,\u001B[49m\n\u001B[0;32m    307\u001B[0m \u001B[43m    \u001B[49m\u001B[43mstate\u001B[49m\u001B[38;5;241;43m.\u001B[39;49m\u001B[43mX_val\u001B[49m\u001B[43m,\u001B[49m\n\u001B[0;32m    308\u001B[0m \u001B[43m    \u001B[49m\u001B[43mstate\u001B[49m\u001B[38;5;241;43m.\u001B[39;49m\u001B[43my_val\u001B[49m\u001B[43m,\u001B[49m\n\u001B[0;32m    309\u001B[0m \u001B[43m    \u001B[49m\u001B[43mstate\u001B[49m\u001B[38;5;241;43m.\u001B[39;49m\u001B[43mweight_val\u001B[49m\u001B[43m,\u001B[49m\n\u001B[0;32m    310\u001B[0m \u001B[43m    \u001B[49m\u001B[43mstate\u001B[49m\u001B[38;5;241;43m.\u001B[39;49m\u001B[43mgroups_val\u001B[49m\u001B[43m,\u001B[49m\n\u001B[0;32m    311\u001B[0m \u001B[43m    \u001B[49m\u001B[43mstate\u001B[49m\u001B[38;5;241;43m.\u001B[39;49m\u001B[43mtrain_time_limit\u001B[49m\u001B[43m \u001B[49m\u001B[38;5;28;43;01mif\u001B[39;49;00m\u001B[43m \u001B[49m\u001B[43mbudget\u001B[49m\u001B[43m \u001B[49m\u001B[38;5;129;43;01mis\u001B[39;49;00m\u001B[43m \u001B[49m\u001B[38;5;28;43;01mNone\u001B[39;49;00m\u001B[43m \u001B[49m\u001B[38;5;28;43;01melse\u001B[39;49;00m\u001B[43m \u001B[49m\u001B[38;5;28;43mmin\u001B[39;49m\u001B[43m(\u001B[49m\u001B[43mbudget\u001B[49m\u001B[43m,\u001B[49m\u001B[43m \u001B[49m\u001B[43mstate\u001B[49m\u001B[38;5;241;43m.\u001B[39;49m\u001B[43mtrain_time_limit\u001B[49m\u001B[43m \u001B[49m\u001B[38;5;129;43;01mor\u001B[39;49;00m\u001B[43m \u001B[49m\u001B[43mnp\u001B[49m\u001B[38;5;241;43m.\u001B[39;49m\u001B[43minf\u001B[49m\u001B[43m)\u001B[49m\u001B[43m,\u001B[49m\n\u001B[0;32m    312\u001B[0m \u001B[43m    \u001B[49m\u001B[43mstate\u001B[49m\u001B[38;5;241;43m.\u001B[39;49m\u001B[43mkf\u001B[49m\u001B[43m,\u001B[49m\n\u001B[0;32m    313\u001B[0m \u001B[43m    \u001B[49m\u001B[43mconfig\u001B[49m\u001B[43m,\u001B[49m\n\u001B[0;32m    314\u001B[0m \u001B[43m    \u001B[49m\u001B[43mstate\u001B[49m\u001B[38;5;241;43m.\u001B[39;49m\u001B[43mtask\u001B[49m\u001B[43m,\u001B[49m\n\u001B[0;32m    315\u001B[0m \u001B[43m    \u001B[49m\u001B[43mestimator\u001B[49m\u001B[43m,\u001B[49m\n\u001B[0;32m    316\u001B[0m \u001B[43m    \u001B[49m\u001B[43mstate\u001B[49m\u001B[38;5;241;43m.\u001B[39;49m\u001B[43meval_method\u001B[49m\u001B[43m,\u001B[49m\n\u001B[0;32m    317\u001B[0m \u001B[43m    \u001B[49m\u001B[43mstate\u001B[49m\u001B[38;5;241;43m.\u001B[39;49m\u001B[43mmetric\u001B[49m\u001B[43m,\u001B[49m\n\u001B[0;32m    318\u001B[0m \u001B[43m    \u001B[49m\u001B[43mstate\u001B[49m\u001B[38;5;241;43m.\u001B[39;49m\u001B[43mbest_loss\u001B[49m\u001B[43m,\u001B[49m\n\u001B[0;32m    319\u001B[0m \u001B[43m    \u001B[49m\u001B[43mstate\u001B[49m\u001B[38;5;241;43m.\u001B[39;49m\u001B[43mn_jobs\u001B[49m\u001B[43m,\u001B[49m\n\u001B[0;32m    320\u001B[0m \u001B[43m    \u001B[49m\u001B[43mstate\u001B[49m\u001B[38;5;241;43m.\u001B[39;49m\u001B[43mlearner_classes\u001B[49m\u001B[38;5;241;43m.\u001B[39;49m\u001B[43mget\u001B[49m\u001B[43m(\u001B[49m\u001B[43mestimator\u001B[49m\u001B[43m)\u001B[49m\u001B[43m,\u001B[49m\n\u001B[0;32m    321\u001B[0m \u001B[43m    \u001B[49m\u001B[43mstate\u001B[49m\u001B[38;5;241;43m.\u001B[39;49m\u001B[43mcv_score_agg_func\u001B[49m\u001B[43m,\u001B[49m\n\u001B[0;32m    322\u001B[0m \u001B[43m    \u001B[49m\u001B[43mstate\u001B[49m\u001B[38;5;241;43m.\u001B[39;49m\u001B[43mlog_training_metric\u001B[49m\u001B[43m,\u001B[49m\n\u001B[0;32m    323\u001B[0m \u001B[43m    \u001B[49m\u001B[43mthis_estimator_kwargs\u001B[49m\u001B[43m,\u001B[49m\n\u001B[0;32m    324\u001B[0m \u001B[43m    \u001B[49m\u001B[43mstate\u001B[49m\u001B[38;5;241;43m.\u001B[39;49m\u001B[43mfree_mem_ratio\u001B[49m\u001B[43m,\u001B[49m\n\u001B[0;32m    325\u001B[0m \u001B[43m\u001B[49m\u001B[43m)\u001B[49m\n\u001B[0;32m    326\u001B[0m \u001B[38;5;28;01mif\u001B[39;00m state\u001B[38;5;241m.\u001B[39mretrain_final \u001B[38;5;129;01mand\u001B[39;00m \u001B[38;5;129;01mnot\u001B[39;00m state\u001B[38;5;241m.\u001B[39mmodel_history:\n\u001B[0;32m    327\u001B[0m     trained_estimator\u001B[38;5;241m.\u001B[39mcleanup()\n",
      "File \u001B[1;32m~\\.conda\\envs\\news\\lib\\site-packages\\flaml\\automl\\ml.py:369\u001B[0m, in \u001B[0;36mcompute_estimator\u001B[1;34m(X_train, y_train, X_val, y_val, weight_val, groups_val, budget, kf, config_dic, task, estimator_name, eval_method, eval_metric, best_val_loss, n_jobs, estimator_class, cv_score_agg_func, log_training_metric, fit_kwargs, free_mem_ratio)\u001B[0m\n\u001B[0;32m    351\u001B[0m     val_loss, metric_for_logging, train_time, pred_time \u001B[38;5;241m=\u001B[39m get_val_loss(\n\u001B[0;32m    352\u001B[0m         config_dic,\n\u001B[0;32m    353\u001B[0m         estimator,\n\u001B[1;32m   (...)\u001B[0m\n\u001B[0;32m    366\u001B[0m         free_mem_ratio\u001B[38;5;241m=\u001B[39m\u001B[38;5;241m0\u001B[39m,\n\u001B[0;32m    367\u001B[0m     )\n\u001B[0;32m    368\u001B[0m \u001B[38;5;28;01melse\u001B[39;00m:\n\u001B[1;32m--> 369\u001B[0m     val_loss, metric_for_logging, train_time, pred_time \u001B[38;5;241m=\u001B[39m \u001B[43mtask\u001B[49m\u001B[38;5;241;43m.\u001B[39;49m\u001B[43mevaluate_model_CV\u001B[49m\u001B[43m(\u001B[49m\n\u001B[0;32m    370\u001B[0m \u001B[43m        \u001B[49m\u001B[43mconfig_dic\u001B[49m\u001B[43m,\u001B[49m\n\u001B[0;32m    371\u001B[0m \u001B[43m        \u001B[49m\u001B[43mestimator\u001B[49m\u001B[43m,\u001B[49m\n\u001B[0;32m    372\u001B[0m \u001B[43m        \u001B[49m\u001B[43mX_train\u001B[49m\u001B[43m,\u001B[49m\n\u001B[0;32m    373\u001B[0m \u001B[43m        \u001B[49m\u001B[43my_train\u001B[49m\u001B[43m,\u001B[49m\n\u001B[0;32m    374\u001B[0m \u001B[43m        \u001B[49m\u001B[43mbudget\u001B[49m\u001B[43m,\u001B[49m\n\u001B[0;32m    375\u001B[0m \u001B[43m        \u001B[49m\u001B[43mkf\u001B[49m\u001B[43m,\u001B[49m\n\u001B[0;32m    376\u001B[0m \u001B[43m        \u001B[49m\u001B[43meval_metric\u001B[49m\u001B[43m,\u001B[49m\n\u001B[0;32m    377\u001B[0m \u001B[43m        \u001B[49m\u001B[43mbest_val_loss\u001B[49m\u001B[43m,\u001B[49m\n\u001B[0;32m    378\u001B[0m \u001B[43m        \u001B[49m\u001B[43mcv_score_agg_func\u001B[49m\u001B[43m,\u001B[49m\n\u001B[0;32m    379\u001B[0m \u001B[43m        \u001B[49m\u001B[43mlog_training_metric\u001B[49m\u001B[38;5;241;43m=\u001B[39;49m\u001B[43mlog_training_metric\u001B[49m\u001B[43m,\u001B[49m\n\u001B[0;32m    380\u001B[0m \u001B[43m        \u001B[49m\u001B[43mfit_kwargs\u001B[49m\u001B[38;5;241;43m=\u001B[39;49m\u001B[43mfit_kwargs\u001B[49m\u001B[43m,\u001B[49m\n\u001B[0;32m    381\u001B[0m \u001B[43m        \u001B[49m\u001B[43mfree_mem_ratio\u001B[49m\u001B[38;5;241;43m=\u001B[39;49m\u001B[38;5;241;43m0\u001B[39;49m\u001B[43m,\u001B[49m\n\u001B[0;32m    382\u001B[0m \u001B[43m    \u001B[49m\u001B[43m)\u001B[49m\n\u001B[0;32m    384\u001B[0m \u001B[38;5;28;01mif\u001B[39;00m \u001B[38;5;28misinstance\u001B[39m(estimator, TransformersEstimator):\n\u001B[0;32m    385\u001B[0m     \u001B[38;5;28;01mdel\u001B[39;00m fit_kwargs[\u001B[38;5;124m\"\u001B[39m\u001B[38;5;124mmetric\u001B[39m\u001B[38;5;124m\"\u001B[39m], fit_kwargs[\u001B[38;5;124m\"\u001B[39m\u001B[38;5;124mX_val\u001B[39m\u001B[38;5;124m\"\u001B[39m], fit_kwargs[\u001B[38;5;124m\"\u001B[39m\u001B[38;5;124my_val\u001B[39m\u001B[38;5;124m\"\u001B[39m]\n",
      "File \u001B[1;32m~\\.conda\\envs\\news\\lib\\site-packages\\flaml\\automl\\task\\generic_task.py:740\u001B[0m, in \u001B[0;36mGenericTask.evaluate_model_CV\u001B[1;34m(self, config, estimator, X_train_all, y_train_all, budget, kf, eval_metric, best_val_loss, cv_score_agg_func, log_training_metric, fit_kwargs, free_mem_ratio)\u001B[0m\n\u001B[0;32m    737\u001B[0m         groups_val \u001B[38;5;241m=\u001B[39m \u001B[38;5;28;01mNone\u001B[39;00m\n\u001B[0;32m    739\u001B[0m estimator\u001B[38;5;241m.\u001B[39mcleanup()\n\u001B[1;32m--> 740\u001B[0m val_loss_i, metric_i, train_time_i, pred_time_i \u001B[38;5;241m=\u001B[39m \u001B[43mget_val_loss\u001B[49m\u001B[43m(\u001B[49m\n\u001B[0;32m    741\u001B[0m \u001B[43m    \u001B[49m\u001B[43mconfig\u001B[49m\u001B[43m,\u001B[49m\n\u001B[0;32m    742\u001B[0m \u001B[43m    \u001B[49m\u001B[43mestimator\u001B[49m\u001B[43m,\u001B[49m\n\u001B[0;32m    743\u001B[0m \u001B[43m    \u001B[49m\u001B[43mX_train\u001B[49m\u001B[43m,\u001B[49m\n\u001B[0;32m    744\u001B[0m \u001B[43m    \u001B[49m\u001B[43my_train\u001B[49m\u001B[43m,\u001B[49m\n\u001B[0;32m    745\u001B[0m \u001B[43m    \u001B[49m\u001B[43mX_val\u001B[49m\u001B[43m,\u001B[49m\n\u001B[0;32m    746\u001B[0m \u001B[43m    \u001B[49m\u001B[43my_val\u001B[49m\u001B[43m,\u001B[49m\n\u001B[0;32m    747\u001B[0m \u001B[43m    \u001B[49m\u001B[43mweight_val\u001B[49m\u001B[43m,\u001B[49m\n\u001B[0;32m    748\u001B[0m \u001B[43m    \u001B[49m\u001B[43mgroups_val\u001B[49m\u001B[43m,\u001B[49m\n\u001B[0;32m    749\u001B[0m \u001B[43m    \u001B[49m\u001B[43meval_metric\u001B[49m\u001B[43m,\u001B[49m\n\u001B[0;32m    750\u001B[0m \u001B[43m    \u001B[49m\u001B[38;5;28;43mself\u001B[39;49m\u001B[43m,\u001B[49m\n\u001B[0;32m    751\u001B[0m \u001B[43m    \u001B[49m\u001B[43mlabels\u001B[49m\u001B[43m,\u001B[49m\n\u001B[0;32m    752\u001B[0m \u001B[43m    \u001B[49m\u001B[43mbudget_per_train\u001B[49m\u001B[43m,\u001B[49m\n\u001B[0;32m    753\u001B[0m \u001B[43m    \u001B[49m\u001B[43mlog_training_metric\u001B[49m\u001B[38;5;241;43m=\u001B[39;49m\u001B[43mlog_training_metric\u001B[49m\u001B[43m,\u001B[49m\n\u001B[0;32m    754\u001B[0m \u001B[43m    \u001B[49m\u001B[43mfit_kwargs\u001B[49m\u001B[38;5;241;43m=\u001B[39;49m\u001B[43mfit_kwargs\u001B[49m\u001B[43m,\u001B[49m\n\u001B[0;32m    755\u001B[0m \u001B[43m    \u001B[49m\u001B[43mfree_mem_ratio\u001B[49m\u001B[38;5;241;43m=\u001B[39;49m\u001B[43mfree_mem_ratio\u001B[49m\u001B[43m,\u001B[49m\n\u001B[0;32m    756\u001B[0m \u001B[43m\u001B[49m\u001B[43m)\u001B[49m\n\u001B[0;32m    757\u001B[0m \u001B[38;5;28;01mif\u001B[39;00m \u001B[38;5;28misinstance\u001B[39m(metric_i, \u001B[38;5;28mdict\u001B[39m) \u001B[38;5;129;01mand\u001B[39;00m \u001B[38;5;124m\"\u001B[39m\u001B[38;5;124mintermediate_results\u001B[39m\u001B[38;5;124m\"\u001B[39m \u001B[38;5;129;01min\u001B[39;00m metric_i\u001B[38;5;241m.\u001B[39mkeys():\n\u001B[0;32m    758\u001B[0m     \u001B[38;5;28;01mdel\u001B[39;00m metric_i[\u001B[38;5;124m\"\u001B[39m\u001B[38;5;124mintermediate_results\u001B[39m\u001B[38;5;124m\"\u001B[39m]\n",
      "File \u001B[1;32m~\\.conda\\envs\\news\\lib\\site-packages\\flaml\\automl\\ml.py:494\u001B[0m, in \u001B[0;36mget_val_loss\u001B[1;34m(config, estimator, X_train, y_train, X_val, y_val, weight_val, groups_val, eval_metric, task, labels, budget, log_training_metric, fit_kwargs, free_mem_ratio)\u001B[0m\n\u001B[0;32m    489\u001B[0m start \u001B[38;5;241m=\u001B[39m time\u001B[38;5;241m.\u001B[39mtime()\n\u001B[0;32m    490\u001B[0m \u001B[38;5;66;03m# if groups_val is not None:\u001B[39;00m\n\u001B[0;32m    491\u001B[0m \u001B[38;5;66;03m#     fit_kwargs['groups_val'] = groups_val\u001B[39;00m\n\u001B[0;32m    492\u001B[0m \u001B[38;5;66;03m#     fit_kwargs['X_val'] = X_val\u001B[39;00m\n\u001B[0;32m    493\u001B[0m \u001B[38;5;66;03m#     fit_kwargs['y_val'] = y_val\u001B[39;00m\n\u001B[1;32m--> 494\u001B[0m estimator\u001B[38;5;241m.\u001B[39mfit(X_train, y_train, budget\u001B[38;5;241m=\u001B[39mbudget, free_mem_ratio\u001B[38;5;241m=\u001B[39mfree_mem_ratio, \u001B[38;5;241m*\u001B[39m\u001B[38;5;241m*\u001B[39mfit_kwargs)\n\u001B[0;32m    495\u001B[0m val_loss, metric_for_logging, pred_time, _ \u001B[38;5;241m=\u001B[39m _eval_estimator(\n\u001B[0;32m    496\u001B[0m     config,\n\u001B[0;32m    497\u001B[0m     estimator,\n\u001B[1;32m   (...)\u001B[0m\n\u001B[0;32m    508\u001B[0m     fit_kwargs,\n\u001B[0;32m    509\u001B[0m )\n\u001B[0;32m    510\u001B[0m \u001B[38;5;28;01mif\u001B[39;00m \u001B[38;5;28mhasattr\u001B[39m(estimator, \u001B[38;5;124m\"\u001B[39m\u001B[38;5;124mintermediate_results\u001B[39m\u001B[38;5;124m\"\u001B[39m):\n",
      "File \u001B[1;32m~\\.conda\\envs\\news\\lib\\site-packages\\flaml\\automl\\model.py:1413\u001B[0m, in \u001B[0;36mLGBMEstimator.fit\u001B[1;34m(self, X_train, y_train, budget, free_mem_ratio, **kwargs)\u001B[0m\n\u001B[0;32m   1411\u001B[0m         \u001B[38;5;28mself\u001B[39m\u001B[38;5;241m.\u001B[39mparams[\u001B[38;5;124m\"\u001B[39m\u001B[38;5;124mcallbacks\u001B[39m\u001B[38;5;124m\"\u001B[39m] \u001B[38;5;241m=\u001B[39m callbacks\n\u001B[0;32m   1412\u001B[0m         callbacks \u001B[38;5;241m=\u001B[39m \u001B[38;5;28;01mNone\u001B[39;00m\n\u001B[1;32m-> 1413\u001B[0m \u001B[38;5;28mself\u001B[39m\u001B[38;5;241m.\u001B[39m_fit(\n\u001B[0;32m   1414\u001B[0m     X_train,\n\u001B[0;32m   1415\u001B[0m     y_train,\n\u001B[0;32m   1416\u001B[0m     callbacks\u001B[38;5;241m=\u001B[39mcallbacks,\n\u001B[0;32m   1417\u001B[0m     \u001B[38;5;241m*\u001B[39m\u001B[38;5;241m*\u001B[39mkwargs,\n\u001B[0;32m   1418\u001B[0m )\n\u001B[0;32m   1419\u001B[0m \u001B[38;5;28;01mif\u001B[39;00m callbacks \u001B[38;5;129;01mis\u001B[39;00m \u001B[38;5;28;01mNone\u001B[39;00m:\n\u001B[0;32m   1420\u001B[0m     \u001B[38;5;66;03m# for xgboost>=1.6.0, pop callbacks to enable pickle\u001B[39;00m\n\u001B[0;32m   1421\u001B[0m     callbacks \u001B[38;5;241m=\u001B[39m \u001B[38;5;28mself\u001B[39m\u001B[38;5;241m.\u001B[39mparams\u001B[38;5;241m.\u001B[39mpop(\u001B[38;5;124m\"\u001B[39m\u001B[38;5;124mcallbacks\u001B[39m\u001B[38;5;124m\"\u001B[39m)\n",
      "File \u001B[1;32m~\\.conda\\envs\\news\\lib\\site-packages\\flaml\\automl\\model.py:220\u001B[0m, in \u001B[0;36mBaseEstimator._fit\u001B[1;34m(self, X_train, y_train, **kwargs)\u001B[0m\n\u001B[0;32m    212\u001B[0m         \u001B[38;5;66;03m# groups_val = kwargs.get('groups_val')\u001B[39;00m\n\u001B[0;32m    213\u001B[0m         \u001B[38;5;66;03m# if groups_val is not None:\u001B[39;00m\n\u001B[0;32m    214\u001B[0m         \u001B[38;5;66;03m#     kwargs['eval_group'] = [group_counts(groups_val)]\u001B[39;00m\n\u001B[1;32m   (...)\u001B[0m\n\u001B[0;32m    217\u001B[0m         \u001B[38;5;66;03m#     kwargs['verbose'] = False\u001B[39;00m\n\u001B[0;32m    218\u001B[0m         \u001B[38;5;66;03m#     del kwargs['groups_val'], kwargs['X_val'], kwargs['y_val']\u001B[39;00m\n\u001B[0;32m    219\u001B[0m X_train \u001B[38;5;241m=\u001B[39m \u001B[38;5;28mself\u001B[39m\u001B[38;5;241m.\u001B[39m_preprocess(X_train)\n\u001B[1;32m--> 220\u001B[0m model \u001B[38;5;241m=\u001B[39m \u001B[38;5;28mself\u001B[39m\u001B[38;5;241m.\u001B[39mestimator_class(\u001B[38;5;241m*\u001B[39m\u001B[38;5;241m*\u001B[39m\u001B[38;5;28mself\u001B[39m\u001B[38;5;241m.\u001B[39mparams)\n\u001B[0;32m    221\u001B[0m \u001B[38;5;28;01mif\u001B[39;00m logger\u001B[38;5;241m.\u001B[39mlevel \u001B[38;5;241m==\u001B[39m logging\u001B[38;5;241m.\u001B[39mDEBUG:\n\u001B[0;32m    222\u001B[0m     \u001B[38;5;66;03m# xgboost 1.6 doesn't display all the params in the model str\u001B[39;00m\n\u001B[0;32m    223\u001B[0m     logger\u001B[38;5;241m.\u001B[39mdebug(\u001B[38;5;124mf\u001B[39m\u001B[38;5;124m\"\u001B[39m\u001B[38;5;124mflaml.automl.model - \u001B[39m\u001B[38;5;132;01m{\u001B[39;00mmodel\u001B[38;5;132;01m}\u001B[39;00m\u001B[38;5;124m fit started with params \u001B[39m\u001B[38;5;132;01m{\u001B[39;00m\u001B[38;5;28mself\u001B[39m\u001B[38;5;241m.\u001B[39mparams\u001B[38;5;132;01m}\u001B[39;00m\u001B[38;5;124m\"\u001B[39m)\n",
      "\u001B[1;31mTypeError\u001B[0m: 'NoneType' object is not callable"
     ]
    }
   ],
   "execution_count": 22
  },
  {
   "metadata": {},
   "cell_type": "code",
   "outputs": [],
   "execution_count": null,
   "source": "",
   "id": "d86ceabd1a2bdbfd"
  }
 ],
 "metadata": {
  "kernelspec": {
   "display_name": "Python 3",
   "language": "python",
   "name": "python3"
  },
  "language_info": {
   "codemirror_mode": {
    "name": "ipython",
    "version": 2
   },
   "file_extension": ".py",
   "mimetype": "text/x-python",
   "name": "python",
   "nbconvert_exporter": "python",
   "pygments_lexer": "ipython2",
   "version": "2.7.6"
  }
 },
 "nbformat": 4,
 "nbformat_minor": 5
}
