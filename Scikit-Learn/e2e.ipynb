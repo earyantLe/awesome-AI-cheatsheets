{
 "cells": [
  {
   "cell_type": "code",
   "metadata": {
    "ExecuteTime": {
    }
   },
   "source": [
    "# !pip install scikit-learn\n",
    "# !pip install pandas\n",
    "# !pip install numpy\n",
    "# !pip install matplotlib\n",
    "# !pip install seaborn\n",
    "!pip install xgboost"
   ],
   "outputs": [
    {
     "name": "stdout",
     "output_type": "stream",
     "text": [
      "Looking in indexes: https://pypi.tuna.tsinghua.edu.cn/simple\n",
      "Collecting xgboost\n",
      "  Downloading https://pypi.tuna.tsinghua.edu.cn/packages/24/ec/ad387100fa3cc2b9b81af0829b5ecfe75ec5bb19dd7c19d4fea06fb81802/xgboost-2.0.3-py3-none-win_amd64.whl (99.8 MB)\n",
      "     ---------------------------------------- 0.0/99.8 MB ? eta -:--:--\n",
      "     ---------------------------------------- 0.1/99.8 MB 3.6 MB/s eta 0:00:28\n",
      "     ---------------------------------------- 0.4/99.8 MB 4.5 MB/s eta 0:00:23\n",
      "     ---------------------------------------- 0.8/99.8 MB 6.1 MB/s eta 0:00:17\n",
      "      --------------------------------------- 1.5/99.8 MB 8.9 MB/s eta 0:00:12\n",
      "     - -------------------------------------- 2.9/99.8 MB 13.2 MB/s eta 0:00:08\n",
      "     -- ------------------------------------- 5.6/99.8 MB 21.2 MB/s eta 0:00:05\n",
      "     --- ------------------------------------ 9.1/99.8 MB 29.2 MB/s eta 0:00:04\n",
      "     ---- ---------------------------------- 12.7/99.8 MB 73.1 MB/s eta 0:00:02\n",
      "     ------ -------------------------------- 16.2/99.8 MB 81.8 MB/s eta 0:00:02\n",
      "     ------- ------------------------------- 20.0/99.8 MB 81.8 MB/s eta 0:00:01\n",
      "     --------- ----------------------------- 23.6/99.8 MB 81.8 MB/s eta 0:00:01\n",
      "     ---------- ---------------------------- 27.0/99.8 MB 72.6 MB/s eta 0:00:02\n",
      "     ------------ -------------------------- 30.7/99.8 MB 81.8 MB/s eta 0:00:01\n",
      "     ------------- ------------------------- 33.9/99.8 MB 73.1 MB/s eta 0:00:01\n",
      "     -------------- ------------------------ 37.4/99.8 MB 73.1 MB/s eta 0:00:01\n",
      "     --------------- ----------------------- 40.8/99.8 MB 73.1 MB/s eta 0:00:01\n",
      "     ----------------- --------------------- 44.3/99.8 MB 72.6 MB/s eta 0:00:01\n",
      "     ------------------ -------------------- 47.8/99.8 MB 72.6 MB/s eta 0:00:01\n",
      "     -------------------- ------------------ 51.3/99.8 MB 72.6 MB/s eta 0:00:01\n",
      "     --------------------- ----------------- 55.0/99.8 MB 81.8 MB/s eta 0:00:01\n",
      "     ---------------------- ---------------- 58.8/99.8 MB 93.9 MB/s eta 0:00:01\n",
      "     ------------------------ -------------- 62.4/99.8 MB 93.0 MB/s eta 0:00:01\n",
      "     ------------------------- ------------- 66.3/99.8 MB 81.8 MB/s eta 0:00:01\n",
      "     --------------------------- ----------- 70.1/99.8 MB 81.8 MB/s eta 0:00:01\n",
      "     ---------------------------- ---------- 73.7/99.8 MB 81.8 MB/s eta 0:00:01\n",
      "     ------------------------------ -------- 77.4/99.8 MB 81.8 MB/s eta 0:00:01\n",
      "     ------------------------------- ------- 80.9/99.8 MB 81.8 MB/s eta 0:00:01\n",
      "     --------------------------------- ----- 84.7/99.8 MB 81.8 MB/s eta 0:00:01\n",
      "     ---------------------------------- ---- 88.2/99.8 MB 81.8 MB/s eta 0:00:01\n",
      "     ----------------------------------- --- 91.6/99.8 MB 81.8 MB/s eta 0:00:01\n",
      "     ------------------------------------- - 95.2/99.8 MB 81.8 MB/s eta 0:00:01\n",
      "     --------------------------------------  98.7/99.8 MB 81.8 MB/s eta 0:00:01\n",
      "     --------------------------------------  99.7/99.8 MB 73.1 MB/s eta 0:00:01\n",
      "     --------------------------------------  99.7/99.8 MB 73.1 MB/s eta 0:00:01\n",
      "     --------------------------------------- 99.8/99.8 MB 50.4 MB/s eta 0:00:00\n",
      "Requirement already satisfied: numpy in c:\\users\\administrator\\.conda\\envs\\news\\lib\\site-packages (from xgboost) (1.26.4)\n",
      "Requirement already satisfied: scipy in c:\\users\\administrator\\.conda\\envs\\news\\lib\\site-packages (from xgboost) (1.13.0)\n",
      "Installing collected packages: xgboost\n",
      "Successfully installed xgboost-2.0.3\n"
     ]
    }
   ],
   "execution_count": 82
  },
  {
   "metadata": {
    "ExecuteTime": {
     "end_time": "2024-04-21T07:53:21.539441Z",
     "start_time": "2024-04-21T07:53:21.531436Z"
    }
   },
   "cell_type": "code",
   "source": [
    "# 导入工具库\n",
    "from sklearn.datasets import load_iris    \n",
    "iris = load_iris()\n",
    "#数据是以「字典」格式存储的，看看 iris 的键有哪些。\n",
    "iris.keys()"
   ],
   "id": "3b5c162ab822d612",
   "outputs": [
    {
     "data": {
      "text/plain": [
       "dict_keys(['data', 'target', 'frame', 'target_names', 'DESCR', 'feature_names', 'filename', 'data_module'])"
      ]
     },
     "metadata": {},
     "output_type": "execute_result"
    }
   ],
  },
  {
   "metadata": {
    "ExecuteTime": {
    }
   },
   "cell_type": "code",
   "source": [
    "#输出iris 数据中特征的大小、名称等信息和前五个样本。\n",
    "n_samples, n_features = iris.data.shape\n",
    "print((n_samples, n_features))\n",
    "print(iris.feature_names)\n",
    "print(iris.target.shape)\n",
    "print(iris.target_names)\n",
    "iris.data[0:5]"
   ],
   "id": "2c9116413d326a5",
   "outputs": [
    {
     "name": "stdout",
     "output_type": "stream",
     "text": [
      "(150, 4)\n",
      "['sepal length (cm)', 'sepal width (cm)', 'petal length (cm)', 'petal width (cm)']\n",
      "(150,)\n",
      "['setosa' 'versicolor' 'virginica']\n"
     ]
    },
    {
     "data": {
      "text/plain": [
       "array([[5.1, 3.5, 1.4, 0.2],\n",
       "       [4.9, 3. , 1.4, 0.2],\n",
       "       [4.7, 3.2, 1.3, 0.2],\n",
       "       [4.6, 3.1, 1.5, 0.2],\n",
       "       [5. , 3.6, 1.4, 0.2]])"
      ]
     },
     "metadata": {},
     "output_type": "execute_result"
    }
   ],
  },
  {
   "metadata": {
    "ExecuteTime": {
    }
   },
   "cell_type": "code",
   "source": [
    "# 将X和y合并为Dataframe格式数据 \n",
    "import pandas as pd\n",
    "import seaborn as sns\n",
    "iris_data = pd.DataFrame( iris.data,     \n",
    "                          columns=iris.feature_names )    \n",
    "iris_data['species'] = iris.target_names[iris.target]    \n",
   ],
   "execution_count": 24
  },
  {
   "metadata": {
    "ExecuteTime": {
     "end_time": "2024-04-21T08:04:44.684252Z",
     "start_time": "2024-04-21T08:04:44.670165Z"
    }
   },
   "cell_type": "code",
   "source": [
    "print( RF.n_estimators )\n",
    "RF.estimators_"
   ],
   "id": "9ab23716afc21d8",
   "outputs": [
    {
     "name": "stdout",
     "output_type": "stream",
     "text": [
      "4\n"
     ]
    },
    {
     "data": {
      "text/plain": [
       "[DecisionTreeClassifier(max_depth=5, max_features='sqrt', random_state=644403286),\n",
       " DecisionTreeClassifier(max_depth=5, max_features='sqrt',\n",
       "                        random_state=2019066346),\n",
       " DecisionTreeClassifier(max_depth=5, max_features='sqrt',\n",
       "                        random_state=1804424537),\n",
       " DecisionTreeClassifier(max_depth=5, max_features='sqrt', random_state=370467951)]"
      ]
     },
     "execution_count": 26,
     "metadata": {},
     "output_type": "execute_result"
    }
   ],
   "execution_count": 26
  },
  {
   "metadata": {
    "ExecuteTime": {
     "end_time": "2024-04-21T08:05:00.659348Z",
     "start_time": "2024-04-21T08:05:00.652843Z"
    }
   },
   "cell_type": "code",
   "source": [
    "print ( \"RF - Accuracy (Train):  %.4g\" %\n",
    "        metrics.accuracy_score(y_train, RF.predict(X_train)) )\n",
    "print ( \"RF - Accuracy (Test):  %.4g\" %\n",
    "        metrics.accuracy_score(y_test, RF.predict(X_test)) )"
   ],
   "id": "62fbb9373170274e",
   "outputs": [
    {
     "name": "stdout",
     "output_type": "stream",
     "text": [
      "RF - Accuracy (Train):  0.975\n",
      "RF - Accuracy (Test):  0.9333\n"
     ]
    }
   ],
   "execution_count": 27
  },
  {
   "metadata": {
    "ExecuteTime": {
     "end_time": "2024-04-21T08:05:31.867525Z",
     "start_time": "2024-04-21T08:05:31.835831Z"
    }
   },
   "cell_type": "code",
   "source": [
    "from sklearn.linear_model import LogisticRegression\n",
    "from sklearn.naive_bayes import GaussianNB\n",
    "from sklearn.ensemble import RandomForestClassifier\n",
    "from sklearn.ensemble import VotingClassifier\n",
    "LR = LogisticRegression( solver='lbfgs', multi_class='multinomial' )\n",
    "RF = RandomForestClassifier( n_estimators=5 )\n",
    "GNB = GaussianNB()\n",
    "Ensemble = VotingClassifier( estimators=[('lr', LR), ('rf', RF), ('gnb', GNB)], voting='hard' )\n",
    "Ensemble. fit( X_train, y_train )"
   ],
   "id": "39d79cb0f84b2740",
   "outputs": [
    {
     "data": {
      "text/plain": [
       "VotingClassifier(estimators=[('lr',\n",
       "                              LogisticRegression(multi_class='multinomial')),\n",
       "                             ('rf', RandomForestClassifier(n_estimators=5)),\n",
       "                             ('gnb', GaussianNB())])"
      ],
      "text/html": [
       "<style>#sk-container-id-6 {\n",
       "  /* Definition of color scheme common for light and dark mode */\n",
       "  --sklearn-color-text: black;\n",
       "  --sklearn-color-line: gray;\n",
       "  /* Definition of color scheme for unfitted estimators */\n",
       "  --sklearn-color-unfitted-level-0: #fff5e6;\n",
       "  --sklearn-color-unfitted-level-1: #f6e4d2;\n",
       "  --sklearn-color-unfitted-level-2: #ffe0b3;\n",
       "  --sklearn-color-unfitted-level-3: chocolate;\n",
       "  /* Definition of color scheme for fitted estimators */\n",
       "  --sklearn-color-fitted-level-0: #f0f8ff;\n",
       "  --sklearn-color-fitted-level-1: #d4ebff;\n",
       "  --sklearn-color-fitted-level-2: #b3dbfd;\n",
       "  --sklearn-color-fitted-level-3: cornflowerblue;\n",
       "\n",
       "  /* Specific color for light theme */\n",
       "  --sklearn-color-text-on-default-background: var(--sg-text-color, var(--theme-code-foreground, var(--jp-content-font-color1, black)));\n",
       "  --sklearn-color-background: var(--sg-background-color, var(--theme-background, var(--jp-layout-color0, white)));\n",
       "  --sklearn-color-border-box: var(--sg-text-color, var(--theme-code-foreground, var(--jp-content-font-color1, black)));\n",
       "  --sklearn-color-icon: #696969;\n",
       "\n",
       "  @media (prefers-color-scheme: dark) {\n",
       "    /* Redefinition of color scheme for dark theme */\n",
       "    --sklearn-color-text-on-default-background: var(--sg-text-color, var(--theme-code-foreground, var(--jp-content-font-color1, white)));\n",
       "    --sklearn-color-background: var(--sg-background-color, var(--theme-background, var(--jp-layout-color0, #111)));\n",
       "    --sklearn-color-border-box: var(--sg-text-color, var(--theme-code-foreground, var(--jp-content-font-color1, white)));\n",
       "    --sklearn-color-icon: #878787;\n",
       "  }\n",
       "}\n",
       "\n",
       "#sk-container-id-6 {\n",
       "  color: var(--sklearn-color-text);\n",
       "}\n",
       "\n",
       "#sk-container-id-6 pre {\n",
       "  padding: 0;\n",
       "}\n",
       "\n",
       "#sk-container-id-6 input.sk-hidden--visually {\n",
       "  border: 0;\n",
       "  clip: rect(1px 1px 1px 1px);\n",
       "  clip: rect(1px, 1px, 1px, 1px);\n",
       "  height: 1px;\n",
       "  margin: -1px;\n",
       "  overflow: hidden;\n",
       "  padding: 0;\n",
       "  position: absolute;\n",
       "  width: 1px;\n",
       "}\n",
       "\n",
       "#sk-container-id-6 div.sk-dashed-wrapped {\n",
       "  border: 1px dashed var(--sklearn-color-line);\n",
       "  margin: 0 0.4em 0.5em 0.4em;\n",
       "  box-sizing: border-box;\n",
       "  padding-bottom: 0.4em;\n",
       "  background-color: var(--sklearn-color-background);\n",
       "}\n",
       "\n",
       "#sk-container-id-6 div.sk-container {\n",
       "  /* jupyter's `normalize.less` sets `[hidden] { display: none; }`\n",
       "     but bootstrap.min.css set `[hidden] { display: none !important; }`\n",
       "     so we also need the `!important` here to be able to override the\n",
       "     default hidden behavior on the sphinx rendered scikit-learn.org.\n",
       "     See: https://github.com/scikit-learn/scikit-learn/issues/21755 */\n",
       "  display: inline-block !important;\n",
       "  position: relative;\n",
       "}\n",
       "\n",
       "#sk-container-id-6 div.sk-text-repr-fallback {\n",
       "  display: none;\n",
       "}\n",
       "\n",
       "div.sk-parallel-item,\n",
       "div.sk-serial,\n",
       "div.sk-item {\n",
       "  /* draw centered vertical line to link estimators */\n",
       "  background-image: linear-gradient(var(--sklearn-color-text-on-default-background), var(--sklearn-color-text-on-default-background));\n",
       "  background-size: 2px 100%;\n",
       "  background-repeat: no-repeat;\n",
       "  background-position: center center;\n",
       "}\n",
       "\n",
       "/* Parallel-specific style estimator block */\n",
       "\n",
       "#sk-container-id-6 div.sk-parallel-item::after {\n",
       "  content: \"\";\n",
       "  width: 100%;\n",
       "  border-bottom: 2px solid var(--sklearn-color-text-on-default-background);\n",
       "  flex-grow: 1;\n",
       "}\n",
       "\n",
       "#sk-container-id-6 div.sk-parallel {\n",
       "  display: flex;\n",
       "  align-items: stretch;\n",
       "  justify-content: center;\n",
       "  background-color: var(--sklearn-color-background);\n",
       "  position: relative;\n",
       "}\n",
       "\n",
       "#sk-container-id-6 div.sk-parallel-item {\n",
       "  display: flex;\n",
       "  flex-direction: column;\n",
       "}\n",
       "\n",
       "#sk-container-id-6 div.sk-parallel-item:first-child::after {\n",
       "  align-self: flex-end;\n",
       "  width: 50%;\n",
       "}\n",
       "\n",
       "#sk-container-id-6 div.sk-parallel-item:last-child::after {\n",
       "  align-self: flex-start;\n",
       "  width: 50%;\n",
       "}\n",
       "\n",
       "#sk-container-id-6 div.sk-parallel-item:only-child::after {\n",
       "  width: 0;\n",
       "}\n",
       "\n",
       "/* Serial-specific style estimator block */\n",
       "\n",
       "#sk-container-id-6 div.sk-serial {\n",
       "  display: flex;\n",
       "  flex-direction: column;\n",
       "  align-items: center;\n",
       "  background-color: var(--sklearn-color-background);\n",
       "  padding-right: 1em;\n",
       "  padding-left: 1em;\n",
       "}\n",
       "\n",
       "\n",
       "/* Toggleable style: style used for estimator/Pipeline/ColumnTransformer box that is\n",
       "clickable and can be expanded/collapsed.\n",
       "- Pipeline and ColumnTransformer use this feature and define the default style\n",
       "- Estimators will overwrite some part of the style using the `sk-estimator` class\n",
       "*/\n",
       "\n",
       "/* Pipeline and ColumnTransformer style (default) */\n",
       "\n",
       "#sk-container-id-6 div.sk-toggleable {\n",
       "  /* Default theme specific background. It is overwritten whether we have a\n",
       "  specific estimator or a Pipeline/ColumnTransformer */\n",
       "  background-color: var(--sklearn-color-background);\n",
       "}\n",
       "\n",
       "/* Toggleable label */\n",
       "#sk-container-id-6 label.sk-toggleable__label {\n",
       "  cursor: pointer;\n",
       "  display: block;\n",
       "  width: 100%;\n",
       "  margin-bottom: 0;\n",
       "  padding: 0.5em;\n",
       "  box-sizing: border-box;\n",
       "  text-align: center;\n",
       "}\n",
       "\n",
       "#sk-container-id-6 label.sk-toggleable__label-arrow:before {\n",
       "  /* Arrow on the left of the label */\n",
       "  content: \"▸\";\n",
       "  float: left;\n",
       "  margin-right: 0.25em;\n",
       "  color: var(--sklearn-color-icon);\n",
       "}\n",
       "\n",
       "#sk-container-id-6 label.sk-toggleable__label-arrow:hover:before {\n",
       "  color: var(--sklearn-color-text);\n",
       "}\n",
       "\n",
       "/* Toggleable content - dropdown */\n",
       "\n",
       "#sk-container-id-6 div.sk-toggleable__content {\n",
       "  max-height: 0;\n",
       "  max-width: 0;\n",
       "  overflow: hidden;\n",
       "  text-align: left;\n",
       "  /* unfitted */\n",
       "  background-color: var(--sklearn-color-unfitted-level-0);\n",
       "}\n",
       "\n",
       "#sk-container-id-6 div.sk-toggleable__content.fitted {\n",
       "  /* fitted */\n",
       "  background-color: var(--sklearn-color-fitted-level-0);\n",
       "}\n",
       "\n",
       "#sk-container-id-6 div.sk-toggleable__content pre {\n",
       "  margin: 0.2em;\n",
       "  border-radius: 0.25em;\n",
       "  color: var(--sklearn-color-text);\n",
       "  /* unfitted */\n",
       "  background-color: var(--sklearn-color-unfitted-level-0);\n",
       "}\n",
       "\n",
       "#sk-container-id-6 div.sk-toggleable__content.fitted pre {\n",
       "  /* unfitted */\n",
       "  background-color: var(--sklearn-color-fitted-level-0);\n",
       "}\n",
       "\n",
       "#sk-container-id-6 input.sk-toggleable__control:checked~div.sk-toggleable__content {\n",
       "  /* Expand drop-down */\n",
       "  max-height: 200px;\n",
       "  max-width: 100%;\n",
       "  overflow: auto;\n",
       "}\n",
       "\n",
       "#sk-container-id-6 input.sk-toggleable__control:checked~label.sk-toggleable__label-arrow:before {\n",
       "  content: \"▾\";\n",
       "}\n",
       "\n",
       "/* Pipeline/ColumnTransformer-specific style */\n",
       "\n",
       "#sk-container-id-6 div.sk-label input.sk-toggleable__control:checked~label.sk-toggleable__label {\n",
       "  color: var(--sklearn-color-text);\n",
       "  background-color: var(--sklearn-color-unfitted-level-2);\n",
       "}\n",
       "\n",
       "#sk-container-id-6 div.sk-label.fitted input.sk-toggleable__control:checked~label.sk-toggleable__label {\n",
       "  background-color: var(--sklearn-color-fitted-level-2);\n",
       "}\n",
       "\n",
       "/* Estimator-specific style */\n",
       "\n",
       "/* Colorize estimator box */\n",
       "#sk-container-id-6 div.sk-estimator input.sk-toggleable__control:checked~label.sk-toggleable__label {\n",
       "  /* unfitted */\n",
       "  background-color: var(--sklearn-color-unfitted-level-2);\n",
       "}\n",
       "\n",
       "#sk-container-id-6 div.sk-estimator.fitted input.sk-toggleable__control:checked~label.sk-toggleable__label {\n",
       "  /* fitted */\n",
       "  background-color: var(--sklearn-color-fitted-level-2);\n",
       "}\n",
       "\n",
       "#sk-container-id-6 div.sk-label label.sk-toggleable__label,\n",
       "#sk-container-id-6 div.sk-label label {\n",
       "  /* The background is the default theme color */\n",
       "  color: var(--sklearn-color-text-on-default-background);\n",
       "}\n",
       "\n",
       "/* On hover, darken the color of the background */\n",
       "#sk-container-id-6 div.sk-label:hover label.sk-toggleable__label {\n",
       "  color: var(--sklearn-color-text);\n",
       "  background-color: var(--sklearn-color-unfitted-level-2);\n",
       "}\n",
       "\n",
       "/* Label box, darken color on hover, fitted */\n",
       "#sk-container-id-6 div.sk-label.fitted:hover label.sk-toggleable__label.fitted {\n",
       "  color: var(--sklearn-color-text);\n",
       "  background-color: var(--sklearn-color-fitted-level-2);\n",
       "}\n",
       "\n",
       "/* Estimator label */\n",
       "\n",
       "#sk-container-id-6 div.sk-label label {\n",
       "  font-family: monospace;\n",
       "  font-weight: bold;\n",
       "  display: inline-block;\n",
       "  line-height: 1.2em;\n",
       "}\n",
       "\n",
       "#sk-container-id-6 div.sk-label-container {\n",
       "  text-align: center;\n",
       "}\n",
       "\n",
       "/* Estimator-specific */\n",
       "#sk-container-id-6 div.sk-estimator {\n",
       "  font-family: monospace;\n",
       "  border: 1px dotted var(--sklearn-color-border-box);\n",
       "  border-radius: 0.25em;\n",
       "  box-sizing: border-box;\n",
       "  margin-bottom: 0.5em;\n",
       "  /* unfitted */\n",
       "  background-color: var(--sklearn-color-unfitted-level-0);\n",
       "}\n",
       "\n",
       "#sk-container-id-6 div.sk-estimator.fitted {\n",
       "  /* fitted */\n",
       "  background-color: var(--sklearn-color-fitted-level-0);\n",
       "}\n",
       "\n",
       "/* on hover */\n",
       "#sk-container-id-6 div.sk-estimator:hover {\n",
       "  /* unfitted */\n",
       "  background-color: var(--sklearn-color-unfitted-level-2);\n",
       "}\n",
       "\n",
       "#sk-container-id-6 div.sk-estimator.fitted:hover {\n",
       "  /* fitted */\n",
       "  background-color: var(--sklearn-color-fitted-level-2);\n",
       "}\n",
       "\n",
       "/* Specification for estimator info (e.g. \"i\" and \"?\") */\n",
       "\n",
       "/* Common style for \"i\" and \"?\" */\n",
       "\n",
       ".sk-estimator-doc-link,\n",
       "a:link.sk-estimator-doc-link,\n",
       "a:visited.sk-estimator-doc-link {\n",
       "  float: right;\n",
       "  font-size: smaller;\n",
       "  line-height: 1em;\n",
       "  font-family: monospace;\n",
       "  background-color: var(--sklearn-color-background);\n",
       "  border-radius: 1em;\n",
       "  height: 1em;\n",
       "  width: 1em;\n",
       "  text-decoration: none !important;\n",
       "  margin-left: 1ex;\n",
       "  /* unfitted */\n",
       "  border: var(--sklearn-color-unfitted-level-1) 1pt solid;\n",
       "  color: var(--sklearn-color-unfitted-level-1);\n",
       "}\n",
       "\n",
       ".sk-estimator-doc-link.fitted,\n",
       "a:link.sk-estimator-doc-link.fitted,\n",
       "a:visited.sk-estimator-doc-link.fitted {\n",
       "  /* fitted */\n",
       "  border: var(--sklearn-color-fitted-level-1) 1pt solid;\n",
       "  color: var(--sklearn-color-fitted-level-1);\n",
       "}\n",
       "\n",
       "/* On hover */\n",
       "div.sk-estimator:hover .sk-estimator-doc-link:hover,\n",
       ".sk-estimator-doc-link:hover,\n",
       "div.sk-label-container:hover .sk-estimator-doc-link:hover,\n",
       ".sk-estimator-doc-link:hover {\n",
       "  /* unfitted */\n",
       "  background-color: var(--sklearn-color-unfitted-level-3);\n",
       "  color: var(--sklearn-color-background);\n",
       "  text-decoration: none;\n",
       "}\n",
       "\n",
       "div.sk-estimator.fitted:hover .sk-estimator-doc-link.fitted:hover,\n",
       ".sk-estimator-doc-link.fitted:hover,\n",
       "div.sk-label-container:hover .sk-estimator-doc-link.fitted:hover,\n",
       ".sk-estimator-doc-link.fitted:hover {\n",
       "  /* fitted */\n",
       "  background-color: var(--sklearn-color-fitted-level-3);\n",
       "  color: var(--sklearn-color-background);\n",
       "  text-decoration: none;\n",
       "}\n",
       "\n",
       "/* Span, style for the box shown on hovering the info icon */\n",
       ".sk-estimator-doc-link span {\n",
       "  display: none;\n",
       "  z-index: 9999;\n",
       "  position: relative;\n",
       "  font-weight: normal;\n",
       "  right: .2ex;\n",
       "  padding: .5ex;\n",
       "  margin: .5ex;\n",
       "  width: min-content;\n",
       "  min-width: 20ex;\n",
       "  max-width: 50ex;\n",
       "  color: var(--sklearn-color-text);\n",
       "  box-shadow: 2pt 2pt 4pt #999;\n",
       "  /* unfitted */\n",
       "  background: var(--sklearn-color-unfitted-level-0);\n",
       "  border: .5pt solid var(--sklearn-color-unfitted-level-3);\n",
       "}\n",
       "\n",
       ".sk-estimator-doc-link.fitted span {\n",
       "  /* fitted */\n",
       "  background: var(--sklearn-color-fitted-level-0);\n",
       "  border: var(--sklearn-color-fitted-level-3);\n",
       "}\n",
       "\n",
       ".sk-estimator-doc-link:hover span {\n",
       "  display: block;\n",
       "}\n",
       "\n",
       "/* \"?\"-specific style due to the `<a>` HTML tag */\n",
       "\n",
       "#sk-container-id-6 a.estimator_doc_link {\n",
       "  float: right;\n",
       "  font-size: 1rem;\n",
       "  line-height: 1em;\n",
       "  font-family: monospace;\n",
       "  background-color: var(--sklearn-color-background);\n",
       "  border-radius: 1rem;\n",
       "  height: 1rem;\n",
       "  width: 1rem;\n",
       "  text-decoration: none;\n",
       "  /* unfitted */\n",
       "  color: var(--sklearn-color-unfitted-level-1);\n",
       "  border: var(--sklearn-color-unfitted-level-1) 1pt solid;\n",
       "}\n",
       "\n",
       "#sk-container-id-6 a.estimator_doc_link.fitted {\n",
       "  /* fitted */\n",
       "  border: var(--sklearn-color-fitted-level-1) 1pt solid;\n",
       "  color: var(--sklearn-color-fitted-level-1);\n",
       "}\n",
       "\n",
       "/* On hover */\n",
       "#sk-container-id-6 a.estimator_doc_link:hover {\n",
       "  /* unfitted */\n",
       "  background-color: var(--sklearn-color-unfitted-level-3);\n",
       "  color: var(--sklearn-color-background);\n",
       "  text-decoration: none;\n",
       "}\n",
       "\n",
       "#sk-container-id-6 a.estimator_doc_link.fitted:hover {\n",
       "  /* fitted */\n",
       "  background-color: var(--sklearn-color-fitted-level-3);\n",
       "}\n",
       "</style><div id=\"sk-container-id-6\" class=\"sk-top-container\"><div class=\"sk-text-repr-fallback\"><pre>VotingClassifier(estimators=[(&#x27;lr&#x27;,\n",
       "                              LogisticRegression(multi_class=&#x27;multinomial&#x27;)),\n",
       "                             (&#x27;rf&#x27;, RandomForestClassifier(n_estimators=5)),\n",
       "                             (&#x27;gnb&#x27;, GaussianNB())])</pre><b>In a Jupyter environment, please rerun this cell to show the HTML representation or trust the notebook. <br />On GitHub, the HTML representation is unable to render, please try loading this page with nbviewer.org.</b></div><div class=\"sk-container\" hidden><div class=\"sk-item sk-dashed-wrapped\"><div class=\"sk-label-container\"><div class=\"sk-label fitted sk-toggleable\"><input class=\"sk-toggleable__control sk-hidden--visually\" id=\"sk-estimator-id-6\" type=\"checkbox\" ><label for=\"sk-estimator-id-6\" class=\"sk-toggleable__label fitted sk-toggleable__label-arrow fitted\">&nbsp;&nbsp;VotingClassifier<a class=\"sk-estimator-doc-link fitted\" rel=\"noreferrer\" target=\"_blank\" href=\"https://scikit-learn.org/1.4/modules/generated/sklearn.ensemble.VotingClassifier.html\">?<span>Documentation for VotingClassifier</span></a><span class=\"sk-estimator-doc-link fitted\">i<span>Fitted</span></span></label><div class=\"sk-toggleable__content fitted\"><pre>VotingClassifier(estimators=[(&#x27;lr&#x27;,\n",
       "                              LogisticRegression(multi_class=&#x27;multinomial&#x27;)),\n",
       "                             (&#x27;rf&#x27;, RandomForestClassifier(n_estimators=5)),\n",
       "                             (&#x27;gnb&#x27;, GaussianNB())])</pre></div> </div></div><div class=\"sk-parallel\"><div class=\"sk-parallel-item\"><div class=\"sk-item\"><div class=\"sk-label-container\"><div class=\"sk-label fitted sk-toggleable\"><label>lr</label></div></div><div class=\"sk-serial\"><div class=\"sk-item\"><div class=\"sk-estimator fitted sk-toggleable\"><input class=\"sk-toggleable__control sk-hidden--visually\" id=\"sk-estimator-id-7\" type=\"checkbox\" ><label for=\"sk-estimator-id-7\" class=\"sk-toggleable__label fitted sk-toggleable__label-arrow fitted\">&nbsp;LogisticRegression<a class=\"sk-estimator-doc-link fitted\" rel=\"noreferrer\" target=\"_blank\" href=\"https://scikit-learn.org/1.4/modules/generated/sklearn.linear_model.LogisticRegression.html\">?<span>Documentation for LogisticRegression</span></a></label><div class=\"sk-toggleable__content fitted\"><pre>LogisticRegression(multi_class=&#x27;multinomial&#x27;)</pre></div> </div></div></div></div></div><div class=\"sk-parallel-item\"><div class=\"sk-item\"><div class=\"sk-label-container\"><div class=\"sk-label fitted sk-toggleable\"><label>rf</label></div></div><div class=\"sk-serial\"><div class=\"sk-item\"><div class=\"sk-estimator fitted sk-toggleable\"><input class=\"sk-toggleable__control sk-hidden--visually\" id=\"sk-estimator-id-8\" type=\"checkbox\" ><label for=\"sk-estimator-id-8\" class=\"sk-toggleable__label fitted sk-toggleable__label-arrow fitted\">&nbsp;RandomForestClassifier<a class=\"sk-estimator-doc-link fitted\" rel=\"noreferrer\" target=\"_blank\" href=\"https://scikit-learn.org/1.4/modules/generated/sklearn.ensemble.RandomForestClassifier.html\">?<span>Documentation for RandomForestClassifier</span></a></label><div class=\"sk-toggleable__content fitted\"><pre>RandomForestClassifier(n_estimators=5)</pre></div> </div></div></div></div></div><div class=\"sk-parallel-item\"><div class=\"sk-item\"><div class=\"sk-label-container\"><div class=\"sk-label fitted sk-toggleable\"><label>gnb</label></div></div><div class=\"sk-serial\"><div class=\"sk-item\"><div class=\"sk-estimator fitted sk-toggleable\"><input class=\"sk-toggleable__control sk-hidden--visually\" id=\"sk-estimator-id-9\" type=\"checkbox\" ><label for=\"sk-estimator-id-9\" class=\"sk-toggleable__label fitted sk-toggleable__label-arrow fitted\">&nbsp;GaussianNB<a class=\"sk-estimator-doc-link fitted\" rel=\"noreferrer\" target=\"_blank\" href=\"https://scikit-learn.org/1.4/modules/generated/sklearn.naive_bayes.GaussianNB.html\">?<span>Documentation for GaussianNB</span></a></label><div class=\"sk-toggleable__content fitted\"><pre>GaussianNB()</pre></div> </div></div></div></div></div></div></div></div></div>"
      ]
     },
     "execution_count": 28,
     "metadata": {},
     "output_type": "execute_result"
    }
   ],
   "execution_count": 28
  },
  {
   "metadata": {
    "ExecuteTime": {
     "end_time": "2024-04-21T08:06:07.017188Z",
     "start_time": "2024-04-21T08:06:06.995093Z"
    }
   },
   "cell_type": "code",
   "source": [
    "print( len(Ensemble.estimators_) )\n",
    "Ensemble.estimators_"
   ],
   "id": "64fd3611858c194a",
   "outputs": [
    {
     "name": "stdout",
     "output_type": "stream",
     "text": [
      "3\n"
     ]
    },
    {
     "data": {
      "text/plain": [
       "[LogisticRegression(multi_class='multinomial'),\n",
       " RandomForestClassifier(n_estimators=5),\n",
       " GaussianNB()]"
      ]
     },
     "execution_count": 29,
     "metadata": {},
     "output_type": "execute_result"
    }
   ],
   "execution_count": 29
  },
  {
   "metadata": {
    "ExecuteTime": {
     "end_time": "2024-04-21T08:06:15.528391Z",
     "start_time": "2024-04-21T08:06:15.489354Z"
    }
   },
   "cell_type": "code",
   "source": [
    "# 拟合\n",
    "LR.fit( X_train, y_train )\n",
    "RF.fit( X_train, y_train )\n",
    "GNB.fit( X_train, y_train )"
   ],
   "id": "fddf41a3a37fd6d4",
   "outputs": [
    {
     "data": {
      "text/plain": [
       "GaussianNB()"
      ],
      "text/html": [
       "<style>#sk-container-id-7 {\n",
       "  /* Definition of color scheme common for light and dark mode */\n",
       "  --sklearn-color-text: black;\n",
       "  --sklearn-color-line: gray;\n",
       "  /* Definition of color scheme for unfitted estimators */\n",
       "  --sklearn-color-unfitted-level-0: #fff5e6;\n",
       "  --sklearn-color-unfitted-level-1: #f6e4d2;\n",
       "  --sklearn-color-unfitted-level-2: #ffe0b3;\n",
       "  --sklearn-color-unfitted-level-3: chocolate;\n",
       "  /* Definition of color scheme for fitted estimators */\n",
       "  --sklearn-color-fitted-level-0: #f0f8ff;\n",
       "  --sklearn-color-fitted-level-1: #d4ebff;\n",
       "  --sklearn-color-fitted-level-2: #b3dbfd;\n",
       "  --sklearn-color-fitted-level-3: cornflowerblue;\n",
       "\n",
       "  /* Specific color for light theme */\n",
       "  --sklearn-color-text-on-default-background: var(--sg-text-color, var(--theme-code-foreground, var(--jp-content-font-color1, black)));\n",
       "  --sklearn-color-background: var(--sg-background-color, var(--theme-background, var(--jp-layout-color0, white)));\n",
       "  --sklearn-color-border-box: var(--sg-text-color, var(--theme-code-foreground, var(--jp-content-font-color1, black)));\n",
       "  --sklearn-color-icon: #696969;\n",
       "\n",
       "  @media (prefers-color-scheme: dark) {\n",
       "    /* Redefinition of color scheme for dark theme */\n",
       "    --sklearn-color-text-on-default-background: var(--sg-text-color, var(--theme-code-foreground, var(--jp-content-font-color1, white)));\n",
       "    --sklearn-color-background: var(--sg-background-color, var(--theme-background, var(--jp-layout-color0, #111)));\n",
       "    --sklearn-color-border-box: var(--sg-text-color, var(--theme-code-foreground, var(--jp-content-font-color1, white)));\n",
       "    --sklearn-color-icon: #878787;\n",
       "  }\n",
       "}\n",
       "\n",
       "#sk-container-id-7 {\n",
       "  color: var(--sklearn-color-text);\n",
       "}\n",
       "\n",
       "#sk-container-id-7 pre {\n",
       "  padding: 0;\n",
       "}\n",
       "\n",
       "#sk-container-id-7 input.sk-hidden--visually {\n",
       "  border: 0;\n",
       "  clip: rect(1px 1px 1px 1px);\n",
       "  clip: rect(1px, 1px, 1px, 1px);\n",
       "  height: 1px;\n",
       "  margin: -1px;\n",
       "  overflow: hidden;\n",
       "  padding: 0;\n",
       "  position: absolute;\n",
       "  width: 1px;\n",
       "}\n",
       "\n",
       "#sk-container-id-7 div.sk-dashed-wrapped {\n",
       "  border: 1px dashed var(--sklearn-color-line);\n",
       "  margin: 0 0.4em 0.5em 0.4em;\n",
       "  box-sizing: border-box;\n",
       "  padding-bottom: 0.4em;\n",
       "  background-color: var(--sklearn-color-background);\n",
       "}\n",
       "\n",
       "#sk-container-id-7 div.sk-container {\n",
       "  /* jupyter's `normalize.less` sets `[hidden] { display: none; }`\n",
       "     but bootstrap.min.css set `[hidden] { display: none !important; }`\n",
       "     so we also need the `!important` here to be able to override the\n",
       "     default hidden behavior on the sphinx rendered scikit-learn.org.\n",
       "     See: https://github.com/scikit-learn/scikit-learn/issues/21755 */\n",
       "  display: inline-block !important;\n",
       "  position: relative;\n",
       "}\n",
       "\n",
       "#sk-container-id-7 div.sk-text-repr-fallback {\n",
       "  display: none;\n",
       "}\n",
       "\n",
       "div.sk-parallel-item,\n",
       "div.sk-serial,\n",
       "div.sk-item {\n",
       "  /* draw centered vertical line to link estimators */\n",
       "  background-image: linear-gradient(var(--sklearn-color-text-on-default-background), var(--sklearn-color-text-on-default-background));\n",
       "  background-size: 2px 100%;\n",
       "  background-repeat: no-repeat;\n",
       "  background-position: center center;\n",
       "}\n",
       "\n",
       "/* Parallel-specific style estimator block */\n",
       "\n",
       "#sk-container-id-7 div.sk-parallel-item::after {\n",
       "  content: \"\";\n",
       "  width: 100%;\n",
       "  border-bottom: 2px solid var(--sklearn-color-text-on-default-background);\n",
       "  flex-grow: 1;\n",
       "}\n",
       "\n",
       "#sk-container-id-7 div.sk-parallel {\n",
       "  display: flex;\n",
       "  align-items: stretch;\n",
       "  justify-content: center;\n",
       "  background-color: var(--sklearn-color-background);\n",
       "  position: relative;\n",
       "}\n",
       "\n",
       "#sk-container-id-7 div.sk-parallel-item {\n",
       "  display: flex;\n",
       "  flex-direction: column;\n",
       "}\n",
       "\n",
       "#sk-container-id-7 div.sk-parallel-item:first-child::after {\n",
       "  align-self: flex-end;\n",
       "  width: 50%;\n",
       "}\n",
       "\n",
       "#sk-container-id-7 div.sk-parallel-item:last-child::after {\n",
       "  align-self: flex-start;\n",
       "  width: 50%;\n",
       "}\n",
       "\n",
       "#sk-container-id-7 div.sk-parallel-item:only-child::after {\n",
       "  width: 0;\n",
       "}\n",
       "\n",
       "/* Serial-specific style estimator block */\n",
       "\n",
       "#sk-container-id-7 div.sk-serial {\n",
       "  display: flex;\n",
       "  flex-direction: column;\n",
       "  align-items: center;\n",
       "  background-color: var(--sklearn-color-background);\n",
       "  padding-right: 1em;\n",
       "  padding-left: 1em;\n",
       "}\n",
       "\n",
       "\n",
       "/* Toggleable style: style used for estimator/Pipeline/ColumnTransformer box that is\n",
       "clickable and can be expanded/collapsed.\n",
       "- Pipeline and ColumnTransformer use this feature and define the default style\n",
       "- Estimators will overwrite some part of the style using the `sk-estimator` class\n",
       "*/\n",
       "\n",
       "/* Pipeline and ColumnTransformer style (default) */\n",
       "\n",
       "#sk-container-id-7 div.sk-toggleable {\n",
       "  /* Default theme specific background. It is overwritten whether we have a\n",
       "  specific estimator or a Pipeline/ColumnTransformer */\n",
       "  background-color: var(--sklearn-color-background);\n",
       "}\n",
       "\n",
       "/* Toggleable label */\n",
       "#sk-container-id-7 label.sk-toggleable__label {\n",
       "  cursor: pointer;\n",
       "  display: block;\n",
       "  width: 100%;\n",
       "  margin-bottom: 0;\n",
       "  padding: 0.5em;\n",
       "  box-sizing: border-box;\n",
       "  text-align: center;\n",
       "}\n",
       "\n",
       "#sk-container-id-7 label.sk-toggleable__label-arrow:before {\n",
       "  /* Arrow on the left of the label */\n",
       "  content: \"▸\";\n",
       "  float: left;\n",
       "  margin-right: 0.25em;\n",
       "  color: var(--sklearn-color-icon);\n",
       "}\n",
       "\n",
       "#sk-container-id-7 label.sk-toggleable__label-arrow:hover:before {\n",
       "  color: var(--sklearn-color-text);\n",
       "}\n",
       "\n",
       "/* Toggleable content - dropdown */\n",
       "\n",
       "#sk-container-id-7 div.sk-toggleable__content {\n",
       "  max-height: 0;\n",
       "  max-width: 0;\n",
       "  overflow: hidden;\n",
       "  text-align: left;\n",
       "  /* unfitted */\n",
       "  background-color: var(--sklearn-color-unfitted-level-0);\n",
       "}\n",
       "\n",
       "#sk-container-id-7 div.sk-toggleable__content.fitted {\n",
       "  /* fitted */\n",
       "  background-color: var(--sklearn-color-fitted-level-0);\n",
       "}\n",
       "\n",
       "#sk-container-id-7 div.sk-toggleable__content pre {\n",
       "  margin: 0.2em;\n",
       "  border-radius: 0.25em;\n",
       "  color: var(--sklearn-color-text);\n",
       "  /* unfitted */\n",
       "  background-color: var(--sklearn-color-unfitted-level-0);\n",
       "}\n",
       "\n",
       "#sk-container-id-7 div.sk-toggleable__content.fitted pre {\n",
       "  /* unfitted */\n",
       "  background-color: var(--sklearn-color-fitted-level-0);\n",
       "}\n",
       "\n",
       "#sk-container-id-7 input.sk-toggleable__control:checked~div.sk-toggleable__content {\n",
       "  /* Expand drop-down */\n",
       "  max-height: 200px;\n",
       "  max-width: 100%;\n",
       "  overflow: auto;\n",
       "}\n",
       "\n",
       "#sk-container-id-7 input.sk-toggleable__control:checked~label.sk-toggleable__label-arrow:before {\n",
       "  content: \"▾\";\n",
       "}\n",
       "\n",
       "/* Pipeline/ColumnTransformer-specific style */\n",
       "\n",
       "#sk-container-id-7 div.sk-label input.sk-toggleable__control:checked~label.sk-toggleable__label {\n",
       "  color: var(--sklearn-color-text);\n",
       "  background-color: var(--sklearn-color-unfitted-level-2);\n",
       "}\n",
       "\n",
       "#sk-container-id-7 div.sk-label.fitted input.sk-toggleable__control:checked~label.sk-toggleable__label {\n",
       "  background-color: var(--sklearn-color-fitted-level-2);\n",
       "}\n",
       "\n",
       "/* Estimator-specific style */\n",
       "\n",
       "/* Colorize estimator box */\n",
       "#sk-container-id-7 div.sk-estimator input.sk-toggleable__control:checked~label.sk-toggleable__label {\n",
       "  /* unfitted */\n",
       "  background-color: var(--sklearn-color-unfitted-level-2);\n",
       "}\n",
       "\n",
       "#sk-container-id-7 div.sk-estimator.fitted input.sk-toggleable__control:checked~label.sk-toggleable__label {\n",
       "  /* fitted */\n",
       "  background-color: var(--sklearn-color-fitted-level-2);\n",
       "}\n",
       "\n",
       "#sk-container-id-7 div.sk-label label.sk-toggleable__label,\n",
       "#sk-container-id-7 div.sk-label label {\n",
       "  /* The background is the default theme color */\n",
       "  color: var(--sklearn-color-text-on-default-background);\n",
       "}\n",
       "\n",
       "/* On hover, darken the color of the background */\n",
       "#sk-container-id-7 div.sk-label:hover label.sk-toggleable__label {\n",
       "  color: var(--sklearn-color-text);\n",
       "  background-color: var(--sklearn-color-unfitted-level-2);\n",
       "}\n",
       "\n",
       "/* Label box, darken color on hover, fitted */\n",
       "#sk-container-id-7 div.sk-label.fitted:hover label.sk-toggleable__label.fitted {\n",
       "  color: var(--sklearn-color-text);\n",
       "  background-color: var(--sklearn-color-fitted-level-2);\n",
       "}\n",
       "\n",
       "/* Estimator label */\n",
       "\n",
       "#sk-container-id-7 div.sk-label label {\n",
       "  font-family: monospace;\n",
       "  font-weight: bold;\n",
       "  display: inline-block;\n",
       "  line-height: 1.2em;\n",
       "}\n",
       "\n",
       "#sk-container-id-7 div.sk-label-container {\n",
       "  text-align: center;\n",
       "}\n",
       "\n",
       "/* Estimator-specific */\n",
       "#sk-container-id-7 div.sk-estimator {\n",
       "  font-family: monospace;\n",
       "  border: 1px dotted var(--sklearn-color-border-box);\n",
       "  border-radius: 0.25em;\n",
       "  box-sizing: border-box;\n",
       "  margin-bottom: 0.5em;\n",
       "  /* unfitted */\n",
       "  background-color: var(--sklearn-color-unfitted-level-0);\n",
       "}\n",
       "\n",
       "#sk-container-id-7 div.sk-estimator.fitted {\n",
       "  /* fitted */\n",
       "  background-color: var(--sklearn-color-fitted-level-0);\n",
       "}\n",
       "\n",
       "/* on hover */\n",
       "#sk-container-id-7 div.sk-estimator:hover {\n",
       "  /* unfitted */\n",
       "  background-color: var(--sklearn-color-unfitted-level-2);\n",
       "}\n",
       "\n",
       "#sk-container-id-7 div.sk-estimator.fitted:hover {\n",
       "  /* fitted */\n",
       "  background-color: var(--sklearn-color-fitted-level-2);\n",
       "}\n",
       "\n",
       "/* Specification for estimator info (e.g. \"i\" and \"?\") */\n",
       "\n",
       "/* Common style for \"i\" and \"?\" */\n",
       "\n",
       ".sk-estimator-doc-link,\n",
       "a:link.sk-estimator-doc-link,\n",
       "a:visited.sk-estimator-doc-link {\n",
       "  float: right;\n",
       "  font-size: smaller;\n",
       "  line-height: 1em;\n",
       "  font-family: monospace;\n",
       "  background-color: var(--sklearn-color-background);\n",
       "  border-radius: 1em;\n",
       "  height: 1em;\n",
       "  width: 1em;\n",
       "  text-decoration: none !important;\n",
       "  margin-left: 1ex;\n",
       "  /* unfitted */\n",
       "  border: var(--sklearn-color-unfitted-level-1) 1pt solid;\n",
       "  color: var(--sklearn-color-unfitted-level-1);\n",
       "}\n",
       "\n",
       ".sk-estimator-doc-link.fitted,\n",
       "a:link.sk-estimator-doc-link.fitted,\n",
       "a:visited.sk-estimator-doc-link.fitted {\n",
       "  /* fitted */\n",
       "  border: var(--sklearn-color-fitted-level-1) 1pt solid;\n",
       "  color: var(--sklearn-color-fitted-level-1);\n",
       "}\n",
       "\n",
       "/* On hover */\n",
       "div.sk-estimator:hover .sk-estimator-doc-link:hover,\n",
       ".sk-estimator-doc-link:hover,\n",
       "div.sk-label-container:hover .sk-estimator-doc-link:hover,\n",
       ".sk-estimator-doc-link:hover {\n",
       "  /* unfitted */\n",
       "  background-color: var(--sklearn-color-unfitted-level-3);\n",
       "  color: var(--sklearn-color-background);\n",
       "  text-decoration: none;\n",
       "}\n",
       "\n",
       "div.sk-estimator.fitted:hover .sk-estimator-doc-link.fitted:hover,\n",
       ".sk-estimator-doc-link.fitted:hover,\n",
       "div.sk-label-container:hover .sk-estimator-doc-link.fitted:hover,\n",
       ".sk-estimator-doc-link.fitted:hover {\n",
       "  /* fitted */\n",
       "  background-color: var(--sklearn-color-fitted-level-3);\n",
       "  color: var(--sklearn-color-background);\n",
       "  text-decoration: none;\n",
       "}\n",
       "\n",
       "/* Span, style for the box shown on hovering the info icon */\n",
       ".sk-estimator-doc-link span {\n",
       "  display: none;\n",
       "  z-index: 9999;\n",
       "  position: relative;\n",
       "  font-weight: normal;\n",
       "  right: .2ex;\n",
       "  padding: .5ex;\n",
       "  margin: .5ex;\n",
       "  width: min-content;\n",
       "  min-width: 20ex;\n",
       "  max-width: 50ex;\n",
       "  color: var(--sklearn-color-text);\n",
       "  box-shadow: 2pt 2pt 4pt #999;\n",
       "  /* unfitted */\n",
       "  background: var(--sklearn-color-unfitted-level-0);\n",
       "  border: .5pt solid var(--sklearn-color-unfitted-level-3);\n",
       "}\n",
       "\n",
       ".sk-estimator-doc-link.fitted span {\n",
       "  /* fitted */\n",
       "  background: var(--sklearn-color-fitted-level-0);\n",
       "  border: var(--sklearn-color-fitted-level-3);\n",
       "}\n",
       "\n",
       ".sk-estimator-doc-link:hover span {\n",
       "  display: block;\n",
       "}\n",
       "\n",
       "/* \"?\"-specific style due to the `<a>` HTML tag */\n",
       "\n",
       "#sk-container-id-7 a.estimator_doc_link {\n",
       "  float: right;\n",
       "  font-size: 1rem;\n",
       "  line-height: 1em;\n",
       "  font-family: monospace;\n",
       "  background-color: var(--sklearn-color-background);\n",
       "  border-radius: 1rem;\n",
       "  height: 1rem;\n",
       "  width: 1rem;\n",
       "  text-decoration: none;\n",
       "  /* unfitted */\n",
       "  color: var(--sklearn-color-unfitted-level-1);\n",
       "  border: var(--sklearn-color-unfitted-level-1) 1pt solid;\n",
       "}\n",
       "\n",
       "#sk-container-id-7 a.estimator_doc_link.fitted {\n",
       "  /* fitted */\n",
       "  border: var(--sklearn-color-fitted-level-1) 1pt solid;\n",
       "  color: var(--sklearn-color-fitted-level-1);\n",
       "}\n",
       "\n",
       "/* On hover */\n",
       "#sk-container-id-7 a.estimator_doc_link:hover {\n",
       "  /* unfitted */\n",
       "  background-color: var(--sklearn-color-unfitted-level-3);\n",
       "  color: var(--sklearn-color-background);\n",
       "  text-decoration: none;\n",
       "}\n",
       "\n",
       "#sk-container-id-7 a.estimator_doc_link.fitted:hover {\n",
       "  /* fitted */\n",
       "  background-color: var(--sklearn-color-fitted-level-3);\n",
       "}\n",
       "</style><div id=\"sk-container-id-7\" class=\"sk-top-container\"><div class=\"sk-text-repr-fallback\"><pre>GaussianNB()</pre><b>In a Jupyter environment, please rerun this cell to show the HTML representation or trust the notebook. <br />On GitHub, the HTML representation is unable to render, please try loading this page with nbviewer.org.</b></div><div class=\"sk-container\" hidden><div class=\"sk-item\"><div class=\"sk-estimator fitted sk-toggleable\"><input class=\"sk-toggleable__control sk-hidden--visually\" id=\"sk-estimator-id-10\" type=\"checkbox\" checked><label for=\"sk-estimator-id-10\" class=\"sk-toggleable__label fitted sk-toggleable__label-arrow fitted\">&nbsp;&nbsp;GaussianNB<a class=\"sk-estimator-doc-link fitted\" rel=\"noreferrer\" target=\"_blank\" href=\"https://scikit-learn.org/1.4/modules/generated/sklearn.naive_bayes.GaussianNB.html\">?<span>Documentation for GaussianNB</span></a><span class=\"sk-estimator-doc-link fitted\">i<span>Fitted</span></span></label><div class=\"sk-toggleable__content fitted\"><pre>GaussianNB()</pre></div> </div></div></div></div>"
      ]
     },
     "execution_count": 30,
     "metadata": {},
     "output_type": "execute_result"
    }
   ],
   "execution_count": 30
  },
  {
   "metadata": {
    "ExecuteTime": {
     "end_time": "2024-04-21T08:06:42.006447Z",
     "start_time": "2024-04-21T08:06:41.990417Z"
    }
   },
   "cell_type": "code",
   "source": [
    "# 评估效果\n",
    "print ( \"LR - Accuracy (Train): %.4g\" % metrics.accuracy_score(y_train, LR.predict(X_train)) )\n",
    "print ( \"RF - Accuracy (Train): %.4g\" % metrics.accuracy_score(y_train, RF.predict(X_train)) )\n",
    "print ( \"GNB - Accuracy (Train): %.4g\" % metrics.accuracy_score(y_train, GNB.predict(X_train)) )\n",
    "print ( \"Ensemble - Accuracy (Train): %.4g\" % metrics.accuracy_score(y_train, Ensemble.predict(X_train)) )\n",
    "print ( \"LR - Accuracy (Test): %.4g\" % metrics.accuracy_score(y_test, LR.predict(X_test)) )\n",
    "print ( \"RF - Accuracy (Test): %.4g\" % metrics.accuracy_score(y_test, RF.predict(X_test)) )\n",
    "print ( \"GNB - Accuracy (Test): %.4g\" % metrics.accuracy_score(y_test, RF.predict(X_test)) )\n",
    "print ( \"Ensemble - Accuracy (Test): %.4g\" % metrics.accuracy_score(y_test, Ensemble.predict(X_test)) )"
   ],
   "id": "6de3f4fe81927688",
   "outputs": [
    {
     "name": "stdout",
     "output_type": "stream",
     "text": [
      "LR - Accuracy (Train): 0.975\n",
      "RF - Accuracy (Train): 0.9917\n",
      "GNB - Accuracy (Train): 0.9667\n",
      "Ensemble - Accuracy (Train): 0.975\n",
      "LR - Accuracy (Test): 0.9333\n",
      "RF - Accuracy (Test): 0.9\n",
      "GNB - Accuracy (Test): 0.9\n",
      "Ensemble - Accuracy (Test): 0.9333\n"
     ]
    }
   ],
   "execution_count": 32
  },
  {
   "metadata": {
    "ExecuteTime": {
     "end_time": "2024-04-21T08:08:22.276124Z",
     "start_time": "2024-04-21T08:08:22.243600Z"
    }
   },
   "cell_type": "code",
   "source": [
    "# 导入数据\n",
    "from sklearn.datasets import load_digits\n",
    "digits = load_digits()\n",
    "digits.keys()\n",
    "# 数据集切分\n",
    "X_train, X_test, y_train, y_test = train_test_split( digits['data'], digits['target'], test_size=0.2 )\n",
    "print( 'The size of X_train is ', X_train.shape )\n",
    "print( 'The size of y_train is ', y_train.shape )\n",
    "print( 'The size of X_test is ', X_test.shape )\n",
    "print( 'The size of y_test is ', y_test.shape )"
   ],
   "id": "66fb82512673c45e",
   "outputs": [
    {
     "name": "stdout",
     "output_type": "stream",
     "text": [
      "The size of X_train is  (1437, 64)\n",
      "The size of y_train is  (1437,)\n",
      "The size of X_test is  (360, 64)\n",
      "The size of y_test is  (360,)\n"
     ]
    }
   ],
   "execution_count": 36
  },
  {
   "metadata": {
    "ExecuteTime": {
     "end_time": "2024-04-21T08:08:25.189195Z",
     "start_time": "2024-04-21T08:08:22.977712Z"
    }
   },
   "cell_type": "code",
   "source": [
    "fig, axes = plt.subplots( 10, 16, figsize=(8, 8) )\n",
    "fig.subplots_adjust( hspace=0.1, wspace=0.1 )\n",
    "for i, ax in enumerate( axes.flat ):\n",
    "    ax.imshow( X_train[i,:].reshape(8,8), cmap='binary', interpolation='nearest')\n",
    "    ax.text( 0.05, 0.05, str(y_train[i]),\n",
    "             transform=ax.transAxes, color='blue')\n",
    "    ax.set_xticks([])\n",
    "    ax.set_yticks([])"
   ],
   "id": "f1c2a2df70b28d9f",
   "outputs": [
    {
     ]
    }
   ],
  },
  {
   "metadata": {
    "ExecuteTime": {
     "end_time": "2024-04-21T08:09:28.299059Z",
     "start_time": "2024-04-21T08:09:28.266679Z"
    }
   },
   "cell_type": "code",
   "metadata": {
    "ExecuteTime": {
    }
   },
   "cell_type": "code",
   "source": [
    "print ( \"OvO LR - Accuracy (Train): %.4g\" % metrics.accuracy_score(y_train, ovo_lr.predict(X_train)) )\n",
    "print ( \"OvO LR - Accuracy (Test): %.4g\" % metrics.accuracy_score(y_test, ovo_lr.predict(X_test)))"
   ],
   "id": "3ca86d6cd5bb5c19",
   "outputs": [
    {
     "name": "stdout",
     "output_type": "stream",
     "text": [
     ]
    }
   ],
   "execution_count": 41
  },
  {
   "metadata": {
    "ExecuteTime": {
     "end_time": "2024-04-21T08:10:30.366801Z",
     "start_time": "2024-04-21T08:10:29.433950Z"
    }
   },
   "cell_type": "code",
   "source": [
   ]
  },
  {
   "metadata": {
    "ExecuteTime": {
     "end_time": "2024-04-21T08:10:35.187941Z",
     "start_time": "2024-04-21T08:10:35.162897Z"
    }
   },
   "cell_type": "code",
   "source": [
    "print( len(ova_lr.estimators_) )\n",
    "ova_lr.estimators_"
   ],
   "id": "1804c4ab21ced8e0",
   "outputs": [
    {
     ]
    },
    {
     "data": {
      "text/plain": [
       "[LogisticRegression(max_iter=800),\n",
       " LogisticRegression(max_iter=800),\n",
       " LogisticRegression(max_iter=800),\n",
       " LogisticRegression(max_iter=800),\n",
       " LogisticRegression(max_iter=800),\n",
       " LogisticRegression(max_iter=800),\n",
       " LogisticRegression(max_iter=800),\n",
       " LogisticRegression(max_iter=800),\n",
       " LogisticRegression(max_iter=800),\n",
       " LogisticRegression(max_iter=800)]"
      ]
     },
     "execution_count": 43,
     "metadata": {},
     "output_type": "execute_result"
    }
   ],
   "execution_count": 43
  },
  {
   "metadata": {
    "ExecuteTime": {
     "end_time": "2024-04-21T08:10:50.660186Z",
     "start_time": "2024-04-21T08:10:50.621096Z"
    }
   },
   "cell_type": "code",
   "source": [
   ],
   "id": "5e7f958059958059",
   "outputs": [
    {
     "name": "stdout",
     "output_type": "stream",
     "text": [
      "OvA LR - Accuracy (Train): 0.9986\n",
      "OvA LR - Accuracy (Test): 0.9583\n"
     ]
    }
   ],
   "execution_count": 46
  },
  {
   "metadata": {
    "ExecuteTime": {
    }
   },
  },
  {
   "cell_type": "code",
   "source": [
   ],
   "id": "2de6248edc01d163",
   "outputs": [
    {
     "name": "stdout",
     "output_type": "stream",
     "text": [
      "[[False  True]\n",
      " [False False]\n",
      " [ True  True]\n",
      " ...\n",
      " [ True  True]\n",
      " [ True False]\n",
      " [ True False]]\n"
     ]
    }
   ],
   "execution_count": 47
  },
  {
   "metadata": {
    "ExecuteTime": {
    }
   },
   "cell_type": "code",
   "source": [
    "\n",
   ],
   "id": "b2883a3bc2207ad2",
   "outputs": [
    {
     "data": {
      "text/plain": [
       "<Figure size 800x800 with 100 Axes>"
      ],
      "image/png": "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"
     },
     "metadata": {},
     "output_type": "display_data"
    }
   ],
   "execution_count": 50
  },
  {
   "metadata": {
    "ExecuteTime": {
     "end_time": "2024-04-21T08:12:19.124816Z",
     "start_time": "2024-04-21T08:12:19.113473Z"
    }
   },
   "cell_type": "code",
   "source": [
    "print( y_test[:1] )\n",
    "print( ova_ml.predict(X_test[:1,:]) )"
   ],
   "id": "bc6ae79c45f68707",
   "outputs": [
    {
     "name": "stdout",
     "output_type": "stream",
     "text": [
      "[5]\n",
      "[[0 0]]\n"
     ]
    }
   ],
   "execution_count": 51
  },
  {
   "metadata": {
    "ExecuteTime": {
    }
   },
   "cell_type": "code",
   "source": [
    "from sklearn.multioutput import MultiOutputClassifier\n",
    "from sklearn.ensemble import RandomForestClassifier"
   ],
   "id": "68c2956192ee3305",
   "outputs": [],
   "execution_count": 52
  },
  {
   "metadata": {
    "ExecuteTime": {
     "end_time": "2024-04-21T08:13:18.329832Z",
     "start_time": "2024-04-21T08:13:18.314323Z"
    }
   },
   "cell_type": "code",
   "source": [
    "y_train_1st = y_train.copy()\n",
    "y_train_1st[ y_train<=4 ] = 0\n",
    "y_train_1st[ np.logical_and(y_train>4, y_train<7) ] = 1\n",
    "y_train_1st[ y_train>=7 ] = 2\n",
    "y_train_multioutput = np.c_[y_train_1st, y_train]\n",
    "y_train_multioutput"
   ],
   "id": "11a8befc1577c1ef",
   "outputs": [
    {
     "data": {
      "text/plain": [
       "array([[0, 3],\n",
       "       [1, 5],\n",
       "       [0, 4],\n",
       "       ...,\n",
       "       [0, 4],\n",
       "       [2, 8],\n",
       "       [2, 8]])"
      ]
     },
     "execution_count": 54,
     "metadata": {},
     "output_type": "execute_result"
    }
   ],
   "execution_count": 54
  },
  {
   "metadata": {
    "ExecuteTime": {
     "end_time": "2024-04-21T08:13:45.789608Z",
     "start_time": "2024-04-21T08:13:45.209734Z"
    }
   },
   "cell_type": "code",
   "source": [
    "\n",
    "\n",
   ],
   "execution_count": 55
  },
  {
   "metadata": {
    "ExecuteTime": {
    }
   },
   "cell_type": "code",
   "source": "MO.predict( X_test[:5,:] )",
   "id": "963fdfa7979bbdbf",
   "outputs": [
    {
     "data": {
      "text/plain": [
       "array([[1, 5],\n",
       "       [0, 0],\n",
       "       [0, 0],\n",
       "       [0, 2],\n",
       "       [0, 4]])"
      ]
     },
     "execution_count": 56,
     "metadata": {},
     "output_type": "execute_result"
    }
   ],
   "execution_count": 56
  },
  {
   "metadata": {
    "ExecuteTime": {
     "end_time": "2024-04-21T08:14:01.466705Z",
     "start_time": "2024-04-21T08:14:01.455199Z"
    }
   },
   "cell_type": "code",
   "source": [
    "y_test_1st = y_test.copy()\n",
    "y_test_1st[ y_test<=4 ] = 0\n",
    "y_test_1st[ np.logical_and(y_test>4, y_test<7) ] = 1\n",
    "y_test_1st[ y_test>=7 ] = 2\n",
    "y_test_multioutput = np.c_[ y_test_1st, y_test ]\n",
    "y_test_multioutput[:5]"
   ],
   "id": "7acb00bdc5dd64bd",
   "outputs": [
    {
     "data": {
      "text/plain": [
       "array([[1, 5],\n",
       "       [0, 0],\n",
       "       [0, 0],\n",
       "       [0, 2],\n",
       "       [0, 4]])"
      ]
     },
     "execution_count": 57,
     "metadata": {},
     "output_type": "execute_result"
    }
   ],
   "execution_count": 57
  },
  {
   "metadata": {
    "ExecuteTime": {
     "end_time": "2024-04-21T08:17:04.680396Z",
     "start_time": "2024-04-21T08:17:01.572853Z"
    }
   },
   "cell_type": "code",
   "source": [
    "from time import time\n",
    "from scipy.stats import randint\n",
    "from sklearn.model_selection import GridSearchCV\n",
    "from sklearn.model_selection import RandomizedSearchCV\n",
    "from sklearn.ensemble import RandomForestClassifier\n",
    "X, y = digits.data, digits.target\n",
    "RFC = RandomForestClassifier(n_estimators=20)\n",
    "# 随机搜索/Randomized Search\n",
    "param_dist = {  \"max_depth\": [3, 5],\n",
    "                \"max_features\": randint(1, 11),\n",
    "                \"min_samples_split\": randint(2, 11),\n",
    "                \"criterion\": [\"gini\", \"entropy\"]}\n",
    "n_iter_search = 20\n",
    "random_search = RandomizedSearchCV( RFC, param_distributions=param_dist, n_iter=n_iter_search, cv=5 )\n",
    "start = time()\n",
    "random_search.fit(X, y)\n",
    "print(\"RandomizedSearchCv took %.2f seconds for %d candidates，parameter settings.\" % ((time() - start), n_iter_search))\n",
    "print( random_search.best_params_ )\n",
    "print( random_search.best_score_ )\n",
    "# 网格搜索/Grid Search\n",
    "param_grid = {  \"max_depth\": [3, 5],\n",
    "\"max_features\": [1, 3, 10],\n",
    "\"min_samples_split\": [2, 3, 10],\n",
    "\"criterion\": [\"gini\", \"entropy\"]}\n",
    "grid_search = GridSearchCV( RF, param_grid=param_grid, cv=5 )\n",
    "start = time()\n",
    "grid_search.fit(X, y)\n",
    "print(\"\\\n",
    "GridSearchcv took %.2f seconds for %d candidate parameter settings.\" % (time() - start, len(grid_search.cv_results_['params'])))\n",
    "print( grid_search.best_params_ )\n",
    "print( grid_search.best_score_ )"
   ],
   "id": "f46aad14c0c32adb",
   "outputs": [
    {
     "name": "stdout",
     "output_type": "stream",
     "text": [
      "RandomizedSearchCv took 1.98 seconds for 20 candidates，parameter settings.\n",
      "{'criterion': 'gini', 'max_depth': 5, 'max_features': 10, 'min_samples_split': 5}\n",
      "0.8837233054781801\n",
      "GridSearchcv took 1.10 seconds for 36 candidate parameter settings.\n",
      "{'criterion': 'entropy', 'max_depth': 5, 'max_features': 10, 'min_samples_split': 3}\n",
      "0.8225023212627669\n"
     ]
    }
   ],
   "execution_count": 62
  },
  {
   "metadata": {
    "ExecuteTime": {
     "end_time": "2024-04-21T08:18:17.938442Z",
     "start_time": "2024-04-21T08:18:17.924930Z"
    }
   },
   "cell_type": "code",
   "source": [
    "X = np.array([[56,40,30,5,7,10,9,np.NaN,12],\n",
    "              [1.68,1.83,1.77,np.NaN,1.9,1.65,1.88,np.NaN,1.75]])\n",
    "X = np.transpose(X)"
   ],
   "id": "b5d2843c4cac885a",
   "outputs": [],
   "execution_count": 63
  },
  {
   "metadata": {
    "ExecuteTime": {
     "end_time": "2024-04-21T08:18:24.249658Z",
     "start_time": "2024-04-21T08:18:24.220126Z"
    }
   },
   "cell_type": "code",
   "source": [
    "\n",
    "\n",
   ],
   "execution_count": 69
  },
  {
   "metadata": {
    "ExecuteTime": {
    }
   },
   "cell_type": "code",
   "source": [
    "from sklearn.base import BaseEstimator, TransformerMixin\n",
    "class DataFrameSelector(BaseEstimator, TransformerMixin ):\n",
    "    def __init__( self, attribute_names ):\n",
    "        self.attribute_names = attribute_names\n",
    "    def fit( self, X, y=None ):\n",
    "        return self\n",
    "    def transform( self, X ):\n",
    "        return X[self.attribute_names].values"
   ],
   "id": "5b8bd5714c9af813",
   "outputs": [],
   "execution_count": 74
  },
  {
   "metadata": {
    "ExecuteTime": {
     "end_time": "2024-04-21T08:24:33.143001Z",
     "start_time": "2024-04-21T08:24:33.124383Z"
    }
   },
   "cell_type": "code",
   "source": [
    "from sklearn.pipeline import Pipeline\n",
    "from sklearn.pipeline import FeatureUnion\n",
    "from sklearn.impute import SimpleImputer\n",
    "from sklearn.preprocessing import MinMaxScaler\n",
    "from sklearn.preprocessing import OneHotEncoder\n",
    "categorical_features = ['IQ', 'temper']\n",
    "numeric_features = ['income', 'height']\n",
    "categorical_pipe = Pipeline([\n",
    "        ('select', DataFrameSelector(categorical_features)),\n",
    "        ('impute', SimpleImputer(missing_values=None, strategy='most_frequent')),\n",
    "        ('one_hot_encode', OneHotEncoder())\n",
    "    ])\n",
    "numeric_pipe = Pipeline([\n",
    "    ('select', DataFrameSelector(numeric_features)),\n",
    "    ('impute', SimpleImputer(missing_values=np.nan, strategy='mean')),\n",
    "    ('normalize', MinMaxScaler())])\n",
    "full_pipe = FeatureUnion( transformer_list=[\n",
    "    ('numeric_pipe', numeric_pipe),\n",
    "    ('categorical_pipe', categorical_pipe)])"
   ],
   "id": "fd71f6c925b3fbb5",
   "outputs": [],
   "execution_count": 79
  },
  {
   "metadata": {
    "ExecuteTime": {
     "end_time": "2024-04-21T08:24:34.073568Z",
     "start_time": "2024-04-21T08:24:34.050799Z"
    }
   },
   "cell_type": "code",
   "source": [
    "X_proc = full_pipe.fit_transform( X )\n",
    "print( X_proc )"
   ],
   "id": "637eea37756ea6e6",
   "outputs": [
    {
     "name": "stdout",
     "output_type": "stream",
     "text": [
      "  (0, 0)\t1.0\n",
      "  (0, 1)\t0.1200000000000001\n",
      "  (0, 3)\t1.0\n",
      "  (0, 6)\t1.0\n",
      "  (1, 0)\t0.7777777777777778\n",
      "  (1, 1)\t0.7200000000000006\n",
      "  (1, 2)\t1.0\n",
      "  (1, 5)\t1.0\n",
      "  (2, 0)\t0.5555555555555556\n",
      "  (2, 1)\t0.4800000000000004\n",
      "  (2, 2)\t1.0\n",
      "  (2, 6)\t1.0\n",
      "  (3, 1)\t0.5199999999999996\n",
      "  (3, 4)\t1.0\n",
      "  (3, 5)\t1.0\n",
      "  (4, 0)\t0.04444444444444444\n",
      "  (4, 1)\t1.0\n",
      "  (4, 3)\t1.0\n",
      "  (4, 5)\t1.0\n",
      "  (5, 0)\t0.11111111111111112\n",
      "  (5, 2)\t1.0\n",
      "  (5, 5)\t1.0\n",
      "  (6, 0)\t0.08888888888888889\n",
      "  (6, 1)\t0.9199999999999999\n",
      "  (6, 3)\t1.0\n",
      "  (6, 5)\t1.0\n",
      "  (7, 0)\t0.3416666666666667\n",
      "  (7, 1)\t0.5199999999999996\n",
      "  (7, 3)\t1.0\n",
      "  (7, 5)\t1.0\n",
      "  (8, 0)\t0.15555555555555556\n",
      "  (8, 1)\t0.40000000000000036\n",
      "  (8, 3)\t1.0\n",
      "  (8, 5)\t1.0\n"
     ]
    }
   ],
   "execution_count": 80
  },
  {
   "metadata": {
    "ExecuteTime": {
     "end_time": "2024-04-21T08:34:49.339354Z",
     "start_time": "2024-04-21T08:34:40.487574Z"
    }
   },
   "cell_type": "code",
   "source": [
    "\n",
   ],
   "id": "efee209924ac3376",
   "outputs": [
    {
     "name": "stdout",
     "output_type": "stream",
     "text": [
      "数字0和1的二分类问题\n",
      "在2折数据上的交叉验证\n",
      "混淆矩阵:\n",
      "[[90  0  0  0  0  0  0  0  0  0]\n",
      " [ 2 83  1  3  1  1  0  0  1  3]\n",
      " [ 0  0 94  1  0  0  0  1  0  0]\n",
      " [ 0  0  0 87  0  1  0  2  3  2]\n",
      " [ 0  2  0  0 78  0  0  0  0  2]\n",
      " [ 0  0  0  0  0 83  0  0  0  4]\n",
      " [ 0  0  0  0  0  1 91  0  1  0]\n",
      " [ 0  1  0  0  1  3  0 83  0  0]\n",
      " [ 0  1  1  0  0  1  1  0 79  5]\n",
      " [ 3  2  0  2  0  0  0  1  0 77]]\n",
      "混淆矩阵:\n",
      "[[87  0  0  0  0  0  0  0  1  0]\n",
      " [ 0 87  0  0  0  0  0  0  0  0]\n",
      " [ 0  1 80  0  0  0  0  0  0  0]\n",
      " [ 0  2  0 83  0  2  0  0  0  1]\n",
      " [ 0  1  0  0 97  0  0  1  0  0]\n",
      " [ 0  1  0  0  2 87  1  1  1  2]\n",
      " [ 1  2  0  0  0  0 85  0  0  0]\n",
      " [ 0  1  0  0  0  0  0 89  1  0]\n",
      " [ 0  6  0  0  0  1  0  1 78  0]\n",
      " [ 0  0  0  2  0  0  0  7  2 84]]\n",
      "Iris: 多分类\n",
      "在2折数据上的交叉验证\n",
      "混淆矩阵:\n",
      "[[29  0  0]\n",
      " [ 1 20  1]\n",
      " [ 0  4 20]]\n",
      "混淆矩阵:\n",
      "[[21  0  0]\n",
      " [ 0 26  2]\n",
      " [ 0  2 24]]\n",
      "波士顿房价回归预测问题\n",
      "在2折数据上的交叉验证\n",
      "MSE: 16.36868272153804\n",
      "MSE: 13.477913407825207\n"
     ]
    }
   ],
   "execution_count": 86
  },
  {
   "metadata": {
   },
  }
 ],
 "metadata": {
  "kernelspec": {
   "language": "python",
   "name": "python3"
  },
  "language_info": {
   "codemirror_mode": {
    "name": "ipython",
   },
   "file_extension": ".py",
   "mimetype": "text/x-python",
   "name": "python",
   "nbconvert_exporter": "python",
  }
 },
 "nbformat": 4,
 "nbformat_minor": 5
}
